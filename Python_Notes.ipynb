{
 "cells": [
  {
   "cell_type": "code",
   "execution_count": 3,
   "id": "8ef8087f",
   "metadata": {},
   "outputs": [
    {
     "data": {
      "text/plain": [
       "[0, 1, 2, 3, 6]"
      ]
     },
     "execution_count": 3,
     "metadata": {},
     "output_type": "execute_result"
    }
   ],
   "source": [
    "l=[1,3,2,6,0]\n",
    "for i in range(len(l)):\n",
    "    for j in range(len(l)-i-1):\n",
    "        if l[j]>l[j+1]:\n",
    "            l[j],l[j+1]=l[j+1],l[j]\n",
    "l"
   ]
  },
  {
   "cell_type": "markdown",
   "id": "2370a001",
   "metadata": {},
   "source": [
    "- pip is a package manager for python.\n",
    "- We can use this to install and manage  packages that do not come by default\n",
    "- Example of installing a package: pip install numpy\n",
    "- To install multiple package we can list down package name in requirements.txt file.then use this command:pip install -r requirements.txt\n",
    "- to uninstall : pip uninstall numpy\n",
    "- to update : pip install --upgrade numpy\n",
    "- conda is also a package management system\n"
   ]
  },
  {
   "cell_type": "markdown",
   "id": "717f6508",
   "metadata": {},
   "source": [
    "- Package is a collection of modules. ex: scikit-learn is a package\n",
    "- Modules are collection of functions  which is basically a python .py file\n",
    "- for example in sklearn :it is a package\n",
    "- sklearn.linear_model is a subpackage\n",
    "- in that it contains modules like LinearRegression \n",
    "- from sklearn.linearmodel import LinearRegression\n"
   ]
  },
  {
   "cell_type": "markdown",
   "id": "263d3ca8",
   "metadata": {},
   "source": [
    "### comments , ascii value and number formats"
   ]
  },
  {
   "cell_type": "code",
   "execution_count": null,
   "id": "ab597fe0",
   "metadata": {},
   "outputs": [],
   "source": [
    "#this is a single line comment\n",
    "'''\n",
    "this can be used  as a multi line\n",
    "comment since this string is not assigned to any variable\n",
    "'''"
   ]
  },
  {
   "cell_type": "code",
   "execution_count": 280,
   "id": "ed80c729",
   "metadata": {},
   "outputs": [
    {
     "data": {
      "text/plain": [
       "97"
      ]
     },
     "execution_count": 280,
     "metadata": {},
     "output_type": "execute_result"
    }
   ],
   "source": [
    "#ascii value\n",
    "ord('a')"
   ]
  },
  {
   "cell_type": "code",
   "execution_count": 283,
   "id": "757131e9",
   "metadata": {},
   "outputs": [
    {
     "data": {
      "text/plain": [
       "('0xa', '0b1010', '0o12')"
      ]
     },
     "execution_count": 283,
     "metadata": {},
     "output_type": "execute_result"
    }
   ],
   "source": [
    "#different number formats\n",
    "hex(10),bin(10),oct(10)"
   ]
  },
  {
   "cell_type": "code",
   "execution_count": null,
   "id": "e4013bff",
   "metadata": {},
   "outputs": [],
   "source": [
    "#keywords:keywords are the special set of reserved words \n",
    "#which cant be used as names for variables/functions or any identifiers\n",
    "#Ex:if,else,int,float,list,map etc\n",
    "#identifiers are the names we give to variables/functions/class etc"
   ]
  },
  {
   "cell_type": "markdown",
   "id": "a9568a3a",
   "metadata": {},
   "source": [
    "### variables"
   ]
  },
  {
   "cell_type": "code",
   "execution_count": 8,
   "id": "6edd70f8",
   "metadata": {},
   "outputs": [
    {
     "name": "stdout",
     "output_type": "stream",
     "text": [
      "3.1 [1, 2, 3]\n",
      "3 3 3\n",
      "5 6 7\n",
      "1 2\n"
     ]
    }
   ],
   "source": [
    "#Variables are containers for storing data values\n",
    "#A variable is created the moment you first assign a value to it\n",
    "#Variables do not need to be declared with any particular type, and can even change type after they have been set\n",
    "#so here x is a variable wheich takes 4 different values and it holds the last value at the end\n",
    "#variables are case sensitive as we see x and X are different\n",
    "#variable name can start with letters or underscore\n",
    "#variable can only contain alpha numeric characters and underscore.\n",
    "#reserve words cant be used as variable name\n",
    "#Dynamically-typed languages are those  where the interpreter assigns \n",
    "#variables a type at runtime based on the variable's value at the time.python is an example of dynamic typed language\n",
    "x=4\n",
    "x=\"aa\"\n",
    "x='aa'\n",
    "x=3.1\n",
    "X=[1,2,3]\n",
    "a=b=c=3\n",
    "d,e,f=5,6,7\n",
    "n,m=[1,2]\n",
    "print(x,X)\n",
    "print(a,b,c)\n",
    "print(d,e,f)\n",
    "print(n,m)"
   ]
  },
  {
   "cell_type": "code",
   "execution_count": 1,
   "id": "23eecebc",
   "metadata": {},
   "outputs": [
    {
     "name": "stdout",
     "output_type": "stream",
     "text": [
      "2088748738896 2088748738896\n",
      "2088748738864 2088748738928\n"
     ]
    }
   ],
   "source": [
    "#A Python variable is a name given to a memory location\n",
    "#variable doesnt actually store the data but it stores the location of the data \n",
    "#here id is used to get address of data so 2 is stores in the output address and both x and y are referencing that\n",
    "x=y=2\n",
    "print(id(x),id(y))\n",
    "a=1\n",
    "b=3\n",
    "print(id(a),id(b))"
   ]
  },
  {
   "cell_type": "markdown",
   "id": "aa5124f6",
   "metadata": {},
   "source": [
    "### data types"
   ]
  },
  {
   "cell_type": "code",
   "execution_count": 37,
   "id": "c8d4a125",
   "metadata": {},
   "outputs": [
    {
     "data": {
      "text/plain": [
       "(int, str, list, float, complex, NoneType, range, bool)"
      ]
     },
     "execution_count": 37,
     "metadata": {},
     "output_type": "execute_result"
    }
   ],
   "source": [
    "#data types defines what type of data is stored in a variable\n",
    "#builtin data types in python are:int,float,complex,bytes,str,NoneType,bool etc\n",
    "#type() is used to get the type of data stored in a variable\n",
    "x,y,z=1,\"a\",[1,2]\n",
    "v=2.1\n",
    "a=1j\n",
    "b=None\n",
    "c=range(5)\n",
    "d=True\n",
    "type(x),type(y),type(z),type(v),type(a),type(b),type(c),type(d)"
   ]
  },
  {
   "cell_type": "code",
   "execution_count": 50,
   "id": "20d72acb",
   "metadata": {},
   "outputs": [
    {
     "name": "stdout",
     "output_type": "stream",
     "text": [
      "<class 'float'>\n",
      "<class 'int'> 3\n",
      "<class 'str'>\n"
     ]
    }
   ],
   "source": [
    "#type casting:conversion of on type to another\n",
    "#it can be implicit conversion where python itself does:here x was int,but then it took 3.1 it automatically changed to float\n",
    "x=3\n",
    "x=3.1\n",
    "print(type(x))\n",
    "#or it can be explicit conversion :where we change it by specifying\n",
    "a=int(3.8)\n",
    "print(type(a),a)\n",
    "z=str(2)\n",
    "print(type(z))"
   ]
  },
  {
   "cell_type": "code",
   "execution_count": 98,
   "id": "489bbc9b",
   "metadata": {},
   "outputs": [
    {
     "data": {
      "text/plain": [
       "(True, True, True, False, False, False)"
      ]
     },
     "execution_count": 98,
     "metadata": {},
     "output_type": "execute_result"
    }
   ],
   "source": [
    "#boolean data type\n",
    "bool(True),bool(1),bool(\"aa\"),bool([]),bool(None),bool(0)"
   ]
  },
  {
   "cell_type": "code",
   "execution_count": 101,
   "id": "181589ee",
   "metadata": {},
   "outputs": [
    {
     "data": {
      "text/plain": [
       "True"
      ]
     },
     "execution_count": 101,
     "metadata": {},
     "output_type": "execute_result"
    }
   ],
   "source": [
    "#isinstance function:determines if a variable is of certain data type\n",
    "x=1\n",
    "isinstance(x,int)"
   ]
  },
  {
   "cell_type": "markdown",
   "id": "70d00671",
   "metadata": {},
   "source": [
    "### operators"
   ]
  },
  {
   "cell_type": "code",
   "execution_count": 52,
   "id": "6e969935",
   "metadata": {},
   "outputs": [],
   "source": [
    "#Operators are used to perform operations on variables and values."
   ]
  },
  {
   "cell_type": "code",
   "execution_count": 100,
   "id": "ef3c09e4",
   "metadata": {},
   "outputs": [
    {
     "data": {
      "text/plain": [
       "(True, False, False, True, False, True, True)"
      ]
     },
     "execution_count": 100,
     "metadata": {},
     "output_type": "execute_result"
    }
   ],
   "source": [
    "#comparison operators\n",
    "3>2,3<2,3==2,3>=2,3<=2,3!=2,type(1)==int"
   ]
  },
  {
   "cell_type": "code",
   "execution_count": 1,
   "id": "f1869dfa",
   "metadata": {},
   "outputs": [
    {
     "data": {
      "text/plain": [
       "(3, -1, 4, 1.75, 3, 1, 25)"
      ]
     },
     "execution_count": 1,
     "metadata": {},
     "output_type": "execute_result"
    }
   ],
   "source": [
    "#arithmetic operators\n",
    "# // operator means floor division means it divides and then floors it to low nearest integer\n",
    "# ** means power\n",
    "#  % means modulus operator:remainder\n",
    "1+2,1-2,2*2,7/4,7%4,7//4,5**2"
   ]
  },
  {
   "cell_type": "code",
   "execution_count": 65,
   "id": "ed48db83",
   "metadata": {},
   "outputs": [
    {
     "data": {
      "text/plain": [
       "3"
      ]
     },
     "execution_count": 65,
     "metadata": {},
     "output_type": "execute_result"
    }
   ],
   "source": [
    "#assignment operators:\n",
    "a=2\n",
    "#we can use other arithmetic and bitwise operators before = sign.\n",
    "#a+=1 means a=a+1\n",
    "a+=1\n",
    "a"
   ]
  },
  {
   "cell_type": "code",
   "execution_count": 70,
   "id": "115299f9",
   "metadata": {},
   "outputs": [],
   "source": [
    "#bitwise operators:&,|,~,^,>>,<<"
   ]
  },
  {
   "cell_type": "code",
   "execution_count": 77,
   "id": "a4b4f459",
   "metadata": {},
   "outputs": [
    {
     "data": {
      "text/plain": [
       "(True, True, False, False, False)"
      ]
     },
     "execution_count": 77,
     "metadata": {},
     "output_type": "execute_result"
    }
   ],
   "source": [
    "#logical operators:and ,or ,not\n",
    "True and True,True or False,not True,1>2 and 2>0,not(2>1 or 1<2)"
   ]
  },
  {
   "cell_type": "code",
   "execution_count": 102,
   "id": "75f24c0f",
   "metadata": {},
   "outputs": [
    {
     "data": {
      "text/plain": [
       "(True, False, True)"
      ]
     },
     "execution_count": 102,
     "metadata": {},
     "output_type": "execute_result"
    }
   ],
   "source": [
    "#membership operators\n",
    "1 in [1,2], 1 not in [1,2],\"a\" in \"akshay\""
   ]
  },
  {
   "cell_type": "code",
   "execution_count": 92,
   "id": "783029b9",
   "metadata": {},
   "outputs": [
    {
     "data": {
      "text/plain": [
       "(False, True, True)"
      ]
     },
     "execution_count": 92,
     "metadata": {},
     "output_type": "execute_result"
    }
   ],
   "source": [
    "#identity operators:returns True if both object are the same . == and is operators are different\n",
    "l=[1,2]\n",
    "p=[1,2]\n",
    "q=l\n",
    "l is p,l==p,l is q"
   ]
  },
  {
   "cell_type": "code",
   "execution_count": null,
   "id": "4b01cdc2",
   "metadata": {},
   "outputs": [],
   "source": [
    "#precedence decides which operator to use first:operator with highest precedence is used first \n",
    "#PEMDAS rule:paranthesis() has highest precedence followed by exponent etc\n",
    "#associativity means order of execution when operators are having same precedence\n",
    "#2**3**4 : operator precedence calculates this as 2**(3**4) i.e.associativity is right to left  .\n",
    "#all other operators left to right"
   ]
  },
  {
   "cell_type": "markdown",
   "id": "b8f1c843",
   "metadata": {},
   "source": [
    "### String"
   ]
  },
  {
   "cell_type": "markdown",
   "id": "e52293ba",
   "metadata": {},
   "source": [
    "In Python, negative indexing is a way of accessing elements in a sequence (such as a string, list, or tuple) \n",
    "using negative indices, starting from the end of the sequence."
   ]
  },
  {
   "cell_type": "code",
   "execution_count": 1,
   "id": "017cd942",
   "metadata": {},
   "outputs": [
    {
     "data": {
      "text/plain": [
       "'a'"
      ]
     },
     "execution_count": 1,
     "metadata": {},
     "output_type": "execute_result"
    }
   ],
   "source": [
    "#example for negative indexing\n",
    "s=\"akshay\"\n",
    "s[-2]"
   ]
  },
  {
   "cell_type": "code",
   "execution_count": null,
   "id": "ac7e3700",
   "metadata": {},
   "outputs": [],
   "source": [
    "#strings are immutable\n",
    "#so whatever u change in string, it needs to be s=s.replace() \n",
    "#it doesnt work like lists where we can just call methods without assigning"
   ]
  },
  {
   "cell_type": "code",
   "execution_count": 116,
   "id": "e0d4a461",
   "metadata": {},
   "outputs": [
    {
     "name": "stdout",
     "output_type": "stream",
     "text": [
      "multi\n",
      "    line string\n"
     ]
    },
    {
     "data": {
      "text/plain": [
       "(str, str, str, str)"
      ]
     },
     "execution_count": 116,
     "metadata": {},
     "output_type": "execute_result"
    }
   ],
   "source": [
    "#group of characters/or even nothing surrounded by \"\" or ''\n",
    "s=\"a\"\n",
    "y='a'\n",
    "c='''multi\n",
    "    line string'''\n",
    "z=\"\"\n",
    "print(c)\n",
    "type(s),type(y),type(z),type(c)"
   ]
  },
  {
   "cell_type": "code",
   "execution_count": 117,
   "id": "1e524771",
   "metadata": {},
   "outputs": [
    {
     "data": {
      "text/plain": [
       "6"
      ]
     },
     "execution_count": 117,
     "metadata": {},
     "output_type": "execute_result"
    }
   ],
   "source": [
    "#length of string\n",
    "s=\"akshay\"\n",
    "len(s)"
   ]
  },
  {
   "cell_type": "code",
   "execution_count": 168,
   "id": "cf33dc8a",
   "metadata": {},
   "outputs": [
    {
     "data": {
      "text/plain": [
       "('a', 'y', 'akshay', 'aks', 'shay', 'yahska', 'asa', 'yhk')"
      ]
     },
     "execution_count": 168,
     "metadata": {},
     "output_type": "execute_result"
    }
   ],
   "source": [
    "#accessing element of the strings and slicing:using - indicates negative indexing or from reverse\n",
    "s=\"akshay\"\n",
    "s[0],s[-1],s[:],s[:3],s[2:],s[::-1],s[::2],s[::-2]"
   ]
  },
  {
   "cell_type": "code",
   "execution_count": 121,
   "id": "e7302c30",
   "metadata": {},
   "outputs": [
    {
     "name": "stdout",
     "output_type": "stream",
     "text": [
      "a\tk\ts\th\ta\ty\t"
     ]
    }
   ],
   "source": [
    "#looping through a string\n",
    "for i in s:\n",
    "    print(i,end=\"\\t\")"
   ]
  },
  {
   "cell_type": "code",
   "execution_count": 124,
   "id": "4c6abf0e",
   "metadata": {},
   "outputs": [
    {
     "data": {
      "text/plain": [
       "(True, False)"
      ]
     },
     "execution_count": 124,
     "metadata": {},
     "output_type": "execute_result"
    }
   ],
   "source": [
    "#checking for substring \n",
    "\"a\" in s,\"aks\" not in s"
   ]
  },
  {
   "cell_type": "code",
   "execution_count": 277,
   "id": "f725b01f",
   "metadata": {},
   "outputs": [
    {
     "data": {
      "text/plain": [
       "('hihello', 'hi hello', 'www')"
      ]
     },
     "execution_count": 277,
     "metadata": {},
     "output_type": "execute_result"
    }
   ],
   "source": [
    "#concatenate strings and repeating strings\n",
    "a=\"hi\"\n",
    "b=\"hello\"\n",
    "s=\"w\"*3\n",
    "a+b,a+\" \"+b,s"
   ]
  },
  {
   "cell_type": "code",
   "execution_count": 137,
   "id": "018a18cd",
   "metadata": {},
   "outputs": [
    {
     "data": {
      "text/plain": [
       "'my age is 36 and my salary is 2500000'"
      ]
     },
     "execution_count": 137,
     "metadata": {},
     "output_type": "execute_result"
    }
   ],
   "source": [
    "#we cant concatenate strings with numbers .but  we can use format method to append numbers in placeholders in the string\n",
    "s=\"my age is {} and my salary is {}\"\n",
    "age=36\n",
    "salary=2500000\n",
    "s.format(age,salary)"
   ]
  },
  {
   "cell_type": "code",
   "execution_count": 161,
   "id": "3c77425a",
   "metadata": {},
   "outputs": [
    {
     "name": "stdout",
     "output_type": "stream",
     "text": [
      "hello \"arjun\", how are you\n",
      "it's\n",
      "\\aaa\n",
      "hello\n",
      "hai\n",
      "hello\thai\n"
     ]
    }
   ],
   "source": [
    "#To insert characters that are illegal in a string, use an escape character.\n",
    "#An escape character is a backslash \\ followed by the character you want to insert.\n",
    "#\\n is used for new line,\\t for tab\n",
    "#here we can see we cant use double quotes directly is our string is defined inside double quotes\n",
    "#we can use double quotes if our string is defined in single quotes and vice versa\n",
    "s=\"hello \\\"arjun\\\", how are you\"\n",
    "print(s)\n",
    "r='it\\'s'\n",
    "print(r)\n",
    "t=\"\\\\aaa\"\n",
    "print(t)\n",
    "q=\"hello\\nhai\"\n",
    "print(q)\n",
    "w=\"hello\\thai\"\n",
    "print(w)"
   ]
  },
  {
   "cell_type": "code",
   "execution_count": 1,
   "id": "459f4102",
   "metadata": {},
   "outputs": [
    {
     "name": "stdout",
     "output_type": "stream",
     "text": [
      "yahska\n"
     ]
    }
   ],
   "source": [
    "#reversing a string\n",
    "s=\"akshay\"\n",
    "print(s[::-1])"
   ]
  },
  {
   "cell_type": "markdown",
   "id": "ffa3a17e",
   "metadata": {},
   "source": [
    "- string methods:"
   ]
  },
  {
   "cell_type": "code",
   "execution_count": 186,
   "id": "889e656e",
   "metadata": {},
   "outputs": [
    {
     "data": {
      "text/plain": [
       "('akshay hai', 'AKSHAY HAI', 'Akshay hai', 'AKSHay HAI', 'Akshay Hai')"
      ]
     },
     "execution_count": 186,
     "metadata": {},
     "output_type": "execute_result"
    }
   ],
   "source": [
    "#case conversion\n",
    "s=\"akshAY hai\"\n",
    "s.lower(),s.upper(),s.capitalize(),s.swapcase(),s.title()"
   ]
  },
  {
   "cell_type": "code",
   "execution_count": 189,
   "id": "c829dc05",
   "metadata": {},
   "outputs": [
    {
     "data": {
      "text/plain": [
       "('aasx', 'aasx  ', '  aasx')"
      ]
     },
     "execution_count": 189,
     "metadata": {},
     "output_type": "execute_result"
    }
   ],
   "source": [
    "#remove whitespaces\n",
    "s=\"  aasx  \"\n",
    "s.strip(),s.lstrip(),s.rstrip()"
   ]
  },
  {
   "cell_type": "code",
   "execution_count": 208,
   "id": "fdb00d3e",
   "metadata": {},
   "outputs": [
    {
     "data": {
      "text/plain": [
       "(True, True, True, True, True, True)"
      ]
     },
     "execution_count": 208,
     "metadata": {},
     "output_type": "execute_result"
    }
   ],
   "source": [
    "#to check if string is of certain type\n",
    "\"1\".isdigit(),\"aa\".isalpha(),\"aa3\".isalnum(),\"aa\".islower(),\"AA\".isupper(),\" \".isspace()"
   ]
  },
  {
   "cell_type": "code",
   "execution_count": 205,
   "id": "df84ec98",
   "metadata": {},
   "outputs": [
    {
     "data": {
      "text/plain": [
       "(True, True)"
      ]
     },
     "execution_count": 205,
     "metadata": {},
     "output_type": "execute_result"
    }
   ],
   "source": [
    "#start with ending with something?\n",
    "s=\"akshay\"\n",
    "s.startswith('ak'),s.endswith(\"y\")"
   ]
  },
  {
   "cell_type": "code",
   "execution_count": 226,
   "id": "5bcafaae",
   "metadata": {},
   "outputs": [
    {
     "data": {
      "text/plain": [
       "('QkshQy', 'Qkshay')"
      ]
     },
     "execution_count": 226,
     "metadata": {},
     "output_type": "execute_result"
    }
   ],
   "source": [
    "#replacing in string:s.replace(old,new,count),count means how many occurences to replace ,itis all by default\n",
    "s=\"akshay\"\n",
    "s1=s.replace(\"a\",\"Q\")\n",
    "s2=s.replace(\"a\",\"Q\",1)\n",
    "s1,s2"
   ]
  },
  {
   "cell_type": "code",
   "execution_count": 20,
   "id": "d746715f",
   "metadata": {},
   "outputs": [
    {
     "data": {
      "text/plain": [
       "'zbcdazia'"
      ]
     },
     "execution_count": 20,
     "metadata": {},
     "output_type": "execute_result"
    }
   ],
   "source": [
    "#swapping:\n",
    "s=\"abcdzaiz\"\n",
    "d={\"a\":\"z\",\"z\":\"a\"}\n",
    "t=s.maketrans(d)\n",
    "s.translate(t)"
   ]
  },
  {
   "cell_type": "code",
   "execution_count": 23,
   "id": "5ae2272d",
   "metadata": {},
   "outputs": [
    {
     "data": {
      "text/plain": [
       "'8mn3e2'"
      ]
     },
     "execution_count": 23,
     "metadata": {},
     "output_type": "execute_result"
    }
   ],
   "source": [
    "#replacing multiple elements:\n",
    "s=\"amnceb\"\n",
    "d={\"a\":\"8\",\"b\":'2',\"c\":'3'}\n",
    "table=s.maketrans(d)\n",
    "s.translate(table)"
   ]
  },
  {
   "cell_type": "code",
   "execution_count": 217,
   "id": "38487e7e",
   "metadata": {},
   "outputs": [
    {
     "data": {
      "text/plain": [
       "(2, 1)"
      ]
     },
     "execution_count": 217,
     "metadata": {},
     "output_type": "execute_result"
    }
   ],
   "source": [
    "#count of a substring/char in a string:s.count(char,start,end)\n",
    "s=\"akshay\"\n",
    "s.count(\"a\"),s.count('a',0,3)"
   ]
  },
  {
   "cell_type": "code",
   "execution_count": 256,
   "id": "de459402",
   "metadata": {},
   "outputs": [
    {
     "data": {
      "text/plain": [
       "(0, 7, 4, 0, 4, -1, 7, 0)"
      ]
     },
     "execution_count": 256,
     "metadata": {},
     "output_type": "execute_result"
    }
   ],
   "source": [
    "#getting indexes:s.index(substring,start,end) or s.find(substring,start,end)\n",
    "#The find() method is almost the same as the index() method\n",
    "#the only difference is that the index() method raises an exception if the value is not found but find returns -1\n",
    "#we also have right versions of these methods rfind and rindex and works same but looks for substring from right\n",
    "#all of these gives index of only first occurence from the sides they are finding\n",
    "s=\"akshayzat\"\n",
    "s.index('a'),s.index(\"at\"),s.index(\"a\",1,),s.find(\"a\"),s.find(\"a\",1,),s.find(\"b\"),s.rindex(\"a\"),s.find(\"a\")"
   ]
  },
  {
   "cell_type": "code",
   "execution_count": 265,
   "id": "aa660d2f",
   "metadata": {},
   "outputs": [
    {
     "data": {
      "text/plain": [
       "(['hai', 'hello', 'super', 'bro', 'man'],\n",
       " ['hai', 'hello', 'super', 'bro man'],\n",
       " ('hai ', 'hello', ' super bro man'))"
      ]
     },
     "execution_count": 265,
     "metadata": {},
     "output_type": "execute_result"
    }
   ],
   "source": [
    "#splitting and partioning\n",
    "#partition separates string into three parts:left of separator,separator,right of separator\n",
    "#split splits the string based on separator:s.split(sep,count)\n",
    "s=\"hai hello super bro man\"\n",
    "s.split(\" \"),s.split(\" \",3),s.partition(\"hello\")"
   ]
  },
  {
   "cell_type": "code",
   "execution_count": 294,
   "id": "710f4d95",
   "metadata": {},
   "outputs": [
    {
     "data": {
      "text/plain": [
       "'aa'"
      ]
     },
     "execution_count": 294,
     "metadata": {},
     "output_type": "execute_result"
    }
   ],
   "source": [
    "#str constructor\n",
    "str(\"aa\")"
   ]
  },
  {
   "cell_type": "code",
   "execution_count": 324,
   "id": "9ef4e2bb",
   "metadata": {},
   "outputs": [
    {
     "data": {
      "text/plain": [
       "('abc', 'a@b@c')"
      ]
     },
     "execution_count": 324,
     "metadata": {},
     "output_type": "execute_result"
    }
   ],
   "source": [
    "#join method to make a string from an iterable.\n",
    "l=[\"a\",\"b\",\"c\"]\n",
    "s1=\"\".join(l)\n",
    "s2=\"@\".join(l)\n",
    "s1,s2"
   ]
  },
  {
   "cell_type": "markdown",
   "id": "69253aea",
   "metadata": {},
   "source": [
    "### lists"
   ]
  },
  {
   "cell_type": "code",
   "execution_count": 278,
   "id": "458dcb62",
   "metadata": {},
   "outputs": [],
   "source": [
    "#data structures  stores collection of data\n",
    "#in python there are 4 builtin data structures:lists,tuples,sets,dictionary"
   ]
  },
  {
   "cell_type": "markdown",
   "id": "15336c8e",
   "metadata": {},
   "source": [
    "- lists are ordered collection of elements\n",
    "- lists are ordered:we can index\n",
    "- lists can contain duplicates\n",
    "- lists are changeable or mutable:we can add,remove,update\n",
    "- elements of a list are not stored in continuos memory location"
   ]
  },
  {
   "cell_type": "code",
   "execution_count": 285,
   "id": "2cc19b35",
   "metadata": {},
   "outputs": [
    {
     "data": {
      "text/plain": [
       "list"
      ]
     },
     "execution_count": 285,
     "metadata": {},
     "output_type": "execute_result"
    }
   ],
   "source": [
    "l=[1,2,3]\n",
    "type(l)"
   ]
  },
  {
   "cell_type": "code",
   "execution_count": 347,
   "id": "16eb3b6a",
   "metadata": {},
   "outputs": [
    {
     "data": {
      "text/plain": [
       "(2892268464432, 2892268464464, 2892268464496)"
      ]
     },
     "execution_count": 347,
     "metadata": {},
     "output_type": "execute_result"
    }
   ],
   "source": [
    "l=[1,2,3]\n",
    "id(l[0]),id(l[1]),id(l[2])"
   ]
  },
  {
   "cell_type": "code",
   "execution_count": 3,
   "id": "67a4edb5",
   "metadata": {},
   "outputs": [
    {
     "data": {
      "text/plain": [
       "(2244277296368, 2244277296368, 2244277296368)"
      ]
     },
     "execution_count": 3,
     "metadata": {},
     "output_type": "execute_result"
    }
   ],
   "source": [
    "import numpy as np\n",
    "l=np.array([1,2,3,4,5,6,7,8,9])\n",
    "id(l[0]),id(l[1]),id(l[6])"
   ]
  },
  {
   "cell_type": "code",
   "execution_count": 288,
   "id": "688d574a",
   "metadata": {},
   "outputs": [
    {
     "data": {
      "text/plain": [
       "3"
      ]
     },
     "execution_count": 288,
     "metadata": {},
     "output_type": "execute_result"
    }
   ],
   "source": [
    "len(l)"
   ]
  },
  {
   "cell_type": "code",
   "execution_count": 291,
   "id": "5aefd45e",
   "metadata": {},
   "outputs": [
    {
     "data": {
      "text/plain": [
       "(1, 4)"
      ]
     },
     "execution_count": 291,
     "metadata": {},
     "output_type": "execute_result"
    }
   ],
   "source": [
    "#accessing elements\n",
    "l=[1,2,3,4]\n",
    "l[0],l[-1]"
   ]
  },
  {
   "cell_type": "code",
   "execution_count": 293,
   "id": "efe03827",
   "metadata": {},
   "outputs": [
    {
     "data": {
      "text/plain": [
       "([4, 3, 2, 1], [2, 3])"
      ]
     },
     "execution_count": 293,
     "metadata": {},
     "output_type": "execute_result"
    }
   ],
   "source": [
    "#slicing\n",
    "l[::-1],l[1:3]"
   ]
  },
  {
   "cell_type": "code",
   "execution_count": 386,
   "id": "339ae4ee",
   "metadata": {},
   "outputs": [
    {
     "data": {
      "text/plain": [
       "[3, 2, 1]"
      ]
     },
     "execution_count": 386,
     "metadata": {},
     "output_type": "execute_result"
    }
   ],
   "source": [
    "#inplace reversing using reverse method\n",
    "l=[1,2,3]\n",
    "l.reverse()\n",
    "l"
   ]
  },
  {
   "cell_type": "code",
   "execution_count": 295,
   "id": "92d76610",
   "metadata": {},
   "outputs": [
    {
     "data": {
      "text/plain": [
       "['a', 's']"
      ]
     },
     "execution_count": 295,
     "metadata": {},
     "output_type": "execute_result"
    }
   ],
   "source": [
    "#list constructor:can be used to explicitly convert from other type to a list\n",
    "s=\"as\"\n",
    "list(s)"
   ]
  },
  {
   "cell_type": "code",
   "execution_count": 4,
   "id": "18391e26",
   "metadata": {},
   "outputs": [
    {
     "data": {
      "text/plain": [
       "0"
      ]
     },
     "execution_count": 4,
     "metadata": {},
     "output_type": "execute_result"
    }
   ],
   "source": [
    "#index of elements\n",
    "l=[10,20,30,10]\n",
    "l.index(10)"
   ]
  },
  {
   "cell_type": "code",
   "execution_count": 339,
   "id": "aa57a700",
   "metadata": {},
   "outputs": [
    {
     "data": {
      "text/plain": [
       "True"
      ]
     },
     "execution_count": 339,
     "metadata": {},
     "output_type": "execute_result"
    }
   ],
   "source": [
    "#item exists or not\n",
    "l=[1,2,3,4]\n",
    "4 in l"
   ]
  },
  {
   "cell_type": "code",
   "execution_count": 340,
   "id": "347f966b",
   "metadata": {},
   "outputs": [
    {
     "name": "stdout",
     "output_type": "stream",
     "text": [
      "1\t2\t3\t4\t\n",
      "\n",
      "1\t2\t3\t4\t"
     ]
    }
   ],
   "source": [
    "#looping through lists\n",
    "for i in l:\n",
    "    print(i,end=\"\\t\")\n",
    "print(\"\\n\")\n",
    "for i in range(len(l)):\n",
    "    print(l[i],end=\"\\t\")"
   ]
  },
  {
   "cell_type": "code",
   "execution_count": 305,
   "id": "d6b804eb",
   "metadata": {},
   "outputs": [
    {
     "data": {
      "text/plain": [
       "[1, 2, 3, 4, 5]"
      ]
     },
     "execution_count": 305,
     "metadata": {},
     "output_type": "execute_result"
    }
   ],
   "source": [
    "#for copying one list to another use copy()\n",
    "#simply l1=l doesnt work because when u change \n",
    "l1=l.copy()\n",
    "l1"
   ]
  },
  {
   "cell_type": "code",
   "execution_count": 476,
   "id": "a6d6494e",
   "metadata": {},
   "outputs": [
    {
     "data": {
      "text/plain": [
       "[1, 2, 3, 1, 2, 3]"
      ]
     },
     "execution_count": 476,
     "metadata": {},
     "output_type": "execute_result"
    }
   ],
   "source": [
    "#repeating\n",
    "l=[1,2,3]\n",
    "l*2"
   ]
  },
  {
   "cell_type": "code",
   "execution_count": 318,
   "id": "09af3968",
   "metadata": {},
   "outputs": [
    {
     "name": "stdout",
     "output_type": "stream",
     "text": [
      "[0, 1, 2] [0, 1, 2]\n"
     ]
    },
    {
     "data": {
      "text/plain": [
       "(2892391043008, 2892391043008)"
      ]
     },
     "execution_count": 318,
     "metadata": {},
     "output_type": "execute_result"
    }
   ],
   "source": [
    "#since list is mutable, if i sort then the original value in the same  memory location is updated.\n",
    "#so since p will be also referencing to that so it also gets the same sorted value\n",
    "#so to avoid this use copy() method\n",
    "l=[1,2,0]\n",
    "p=l\n",
    "l.sort()\n",
    "print(l,p)\n",
    "id(l),id(p)"
   ]
  },
  {
   "cell_type": "code",
   "execution_count": 338,
   "id": "d6b5b026",
   "metadata": {},
   "outputs": [
    {
     "data": {
      "text/plain": [
       "([1, 2, 3, 4], [1, 2, 3, 4, 'a', 'b'])"
      ]
     },
     "execution_count": 338,
     "metadata": {},
     "output_type": "execute_result"
    }
   ],
   "source": [
    "#join two lists:+ method,extend,append\n",
    "#if u just add two lists using + then u need to assign that to new list\n",
    "#if u use extend method then l1 will itself be updated : better approach\n",
    "#with extend u can also concat with other iterable\n",
    "#u can also use append but it can add only one element at a time so u need to loop\n",
    "l1=[1,2]\n",
    "l2=[3,4]\n",
    "l3=l1+l2\n",
    "l1.extend(l2)\n",
    "l1.extend({\"a\",\"b\"})\n",
    "l3,l1"
   ]
  },
  {
   "cell_type": "code",
   "execution_count": 343,
   "id": "753c083f",
   "metadata": {},
   "outputs": [
    {
     "data": {
      "text/plain": [
       "([1, 2, 4, 5], [5, 1, 2, 3])"
      ]
     },
     "execution_count": 343,
     "metadata": {},
     "output_type": "execute_result"
    }
   ],
   "source": [
    "#adding elements into list:append and insert\n",
    "#append puts in last index\n",
    "#insert at specified index:elements will be shifter to one place to right\n",
    "l=[1,2,4]\n",
    "l1=[1,2,3]\n",
    "l.append(5)\n",
    "l1.insert(0,5)\n",
    "l,l1"
   ]
  },
  {
   "cell_type": "code",
   "execution_count": 5,
   "id": "bfcf00b0",
   "metadata": {},
   "outputs": [
    {
     "data": {
      "text/plain": [
       "[9, 0, 40, 50, 60]"
      ]
     },
     "execution_count": 5,
     "metadata": {},
     "output_type": "execute_result"
    }
   ],
   "source": [
    "#updating list\n",
    "l=[1,23,31,40,50,60]\n",
    "l[0]=9\n",
    "l[1:3]=[0]\n",
    "l"
   ]
  },
  {
   "cell_type": "code",
   "execution_count": 362,
   "id": "b2e2fa73",
   "metadata": {},
   "outputs": [
    {
     "name": "stdout",
     "output_type": "stream",
     "text": [
      "90 60\n"
     ]
    },
    {
     "data": {
      "text/plain": [
       "[10, 40, 50]"
      ]
     },
     "execution_count": 362,
     "metadata": {},
     "output_type": "execute_result"
    }
   ],
   "source": [
    "#removing elements from list\n",
    "#remove: removes only first occurence of the element given\n",
    "#pop removes based on index.default is last index\n",
    "#to remove all occurence of an element u can use for loop with remove or use filter or use list comprehensions\n",
    "l=[90, 10, 100, 40, 50, 60]\n",
    "l.remove(100)\n",
    "a=l.pop(0)\n",
    "b=l.pop()\n",
    "print(a,b)\n",
    "l"
   ]
  },
  {
   "cell_type": "code",
   "execution_count": 380,
   "id": "68900c1e",
   "metadata": {},
   "outputs": [
    {
     "data": {
      "text/plain": [
       "([20, 30], [20, 30], [20, 30])"
      ]
     },
     "execution_count": 380,
     "metadata": {},
     "output_type": "execute_result"
    }
   ],
   "source": [
    "l=[10,10,20,30,10]\n",
    "l1=[i  for i in l if i!=10]     #list comprehension\n",
    "l2=list(filter(lambda x:x!=10,l))   #filter function\n",
    "for i in l:                          #using for loop and remove method\n",
    "    l.remove(10)\n",
    "l,l1,l2"
   ]
  },
  {
   "cell_type": "code",
   "execution_count": 363,
   "id": "e5cbe72c",
   "metadata": {},
   "outputs": [
    {
     "data": {
      "text/plain": [
       "[]"
      ]
     },
     "execution_count": 363,
     "metadata": {},
     "output_type": "execute_result"
    }
   ],
   "source": [
    "#deleting list or clearing\n",
    "# del l :deletes list .\n",
    "# l.clear() method removes all element from list\n",
    "#u can also specify index in clear to remove only that element\n",
    "l.clear()\n",
    "l"
   ]
  },
  {
   "cell_type": "code",
   "execution_count": 383,
   "id": "f7988bb3",
   "metadata": {},
   "outputs": [
    {
     "data": {
      "text/plain": [
       "([5, 10, 20, 25, 30], [3, 5, 10])"
      ]
     },
     "execution_count": 383,
     "metadata": {},
     "output_type": "execute_result"
    }
   ],
   "source": [
    "#sorting list:sort() method or sorted function\n",
    "#sort method sort lists in place,it changes the original list\n",
    "#sorting function after sorting needs to assigned since this is not a list method but a general function,original list in not changed\n",
    "l=[10,30,20,25,5]\n",
    "l.sort()\n",
    "q=[10,3,5]\n",
    "w=sorted(q)\n",
    "l,w"
   ]
  },
  {
   "cell_type": "code",
   "execution_count": 385,
   "id": "58ffd88b",
   "metadata": {},
   "outputs": [
    {
     "data": {
      "text/plain": [
       "[30, 25, 20, 10, 5]"
      ]
     },
     "execution_count": 385,
     "metadata": {},
     "output_type": "execute_result"
    }
   ],
   "source": [
    "#both of these have parameters key and reverse: by default reverse is false\n",
    "#key can take a function with which we can customize the sorting\n",
    "l=[10,30,20,25,5]\n",
    "l.sort(reverse=True)\n",
    "l"
   ]
  },
  {
   "cell_type": "code",
   "execution_count": 387,
   "id": "8da1977b",
   "metadata": {},
   "outputs": [
    {
     "data": {
      "text/plain": [
       "['ant', 'apple', 'apply', 'mango']"
      ]
     },
     "execution_count": 387,
     "metadata": {},
     "output_type": "execute_result"
    }
   ],
   "source": [
    "#sorting the strings: will be done lexographically\n",
    "l=[\"apple\",\"apply\",\"mango\",\"ant\"]\n",
    "l.sort()\n",
    "l"
   ]
  },
  {
   "cell_type": "markdown",
   "id": "9b5d32d9",
   "metadata": {},
   "source": [
    "- some examples to show the usage of key in sort"
   ]
  },
  {
   "cell_type": "code",
   "execution_count": 389,
   "id": "a90dba0a",
   "metadata": {},
   "outputs": [
    {
     "data": {
      "text/plain": [
       "[('c', 15), ('a', 10), ('b', 5)]"
      ]
     },
     "execution_count": 389,
     "metadata": {},
     "output_type": "execute_result"
    }
   ],
   "source": [
    "#sorting based on an element in list of tuples\n",
    "l=[(\"a\",10),(\"b\",5),(\"c\",15)]\n",
    "l.sort(key=lambda x:x[1],reverse=True)\n",
    "l"
   ]
  },
  {
   "cell_type": "code",
   "execution_count": 390,
   "id": "9136bb5b",
   "metadata": {},
   "outputs": [
    {
     "data": {
      "text/plain": [
       "[49, 52, 45, 40, 60, 10]"
      ]
     },
     "execution_count": 390,
     "metadata": {},
     "output_type": "execute_result"
    }
   ],
   "source": [
    "#sort the numbers based on how close it is to 50\n",
    "l=[10,40,49,52,45,60]\n",
    "l.sort(key=lambda x:abs(50-x))\n",
    "l"
   ]
  },
  {
   "cell_type": "code",
   "execution_count": 6,
   "id": "ee97dddf",
   "metadata": {},
   "outputs": [
    {
     "data": {
      "text/plain": [
       "[49, 52, 45, 40, 60, 10]"
      ]
     },
     "execution_count": 6,
     "metadata": {},
     "output_type": "execute_result"
    }
   ],
   "source": [
    "#sort the numbers based on how close it is to 50\n",
    "l=[10,40,49,52,45,60]\n",
    "sorted(l,key=lambda x:abs(50-x))"
   ]
  },
  {
   "cell_type": "code",
   "execution_count": 46,
   "id": "ea587cd8",
   "metadata": {},
   "outputs": [
    {
     "data": {
      "text/plain": [
       "[6, 6, 6, 2, 2, 7, 8, 9]"
      ]
     },
     "execution_count": 46,
     "metadata": {},
     "output_type": "execute_result"
    }
   ],
   "source": [
    "#sort the list based on frequency of element\n",
    "l=[6,6,7,8,9,2,2,6]\n",
    "sorted(l,reverse=True,key=l.count)"
   ]
  },
  {
   "cell_type": "markdown",
   "id": "6c992da1",
   "metadata": {},
   "source": [
    "- list comprehension: it is a short way of writing code for creating a new list based on a iterable\n",
    "- Syntax: newlist = [expression for item in iterable if condition == True]\n",
    "- newlist=[expression1 if condition==True else expression2 for i in l]"
   ]
  },
  {
   "cell_type": "code",
   "execution_count": 8,
   "id": "6fdf4163",
   "metadata": {},
   "outputs": [
    {
     "data": {
      "text/plain": [
       "([1, 2, 3, 4, 5, 6, 7, 8, 9], [4, 8, 12, 16], [0, 2, 0, 4, 0, 6, 0, 8, 0])"
      ]
     },
     "execution_count": 8,
     "metadata": {},
     "output_type": "execute_result"
    }
   ],
   "source": [
    "l=[1,2,3,4,5,6,7,8,9]\n",
    "l1=[i*2 for i in l if i%2==0]\n",
    "l2=[i if i%2==0 else 0 for i in l]\n",
    "l,l1,l2"
   ]
  },
  {
   "cell_type": "code",
   "execution_count": 397,
   "id": "f2478e38",
   "metadata": {},
   "outputs": [
    {
     "name": "stdout",
     "output_type": "stream",
     "text": [
      "100 5\n",
      "40 2\n",
      "30 1\n"
     ]
    }
   ],
   "source": [
    "#getting index of top 3 largest elements\n",
    "l=[10,30,40,15,20,100,2]\n",
    "for i in range(len(l)):\n",
    "    m=max(l)\n",
    "    print(m,l.index(m))\n",
    "    l.remove(m)\n",
    "    if i==2:\n",
    "        break\n",
    "     \n"
   ]
  },
  {
   "cell_type": "code",
   "execution_count": 409,
   "id": "d864d057",
   "metadata": {},
   "outputs": [
    {
     "data": {
      "text/plain": [
       "[[5, 100], [2, 40], [1, 30], [4, 20], [3, 15]]"
      ]
     },
     "execution_count": 409,
     "metadata": {},
     "output_type": "execute_result"
    }
   ],
   "source": [
    "#find the index of top 5 largest elements in a list\n",
    "l=[10,30,40,15,20,100,2]\n",
    "s=sorted(l,reverse=True)\n",
    "top5=s[:5]\n",
    "[[l.index(i),i] for i in top5]"
   ]
  },
  {
   "cell_type": "markdown",
   "id": "0db77e28",
   "metadata": {},
   "source": [
    "### Tuples"
   ]
  },
  {
   "cell_type": "markdown",
   "id": "30acc38c",
   "metadata": {},
   "source": [
    "- Tuple is a collection which is ordered and unchangeable/immutable\n",
    "- it allows duplicate values"
   ]
  },
  {
   "cell_type": "code",
   "execution_count": 414,
   "id": "c8a8c678",
   "metadata": {},
   "outputs": [],
   "source": [
    "t=(11,21,32)"
   ]
  },
  {
   "cell_type": "code",
   "execution_count": 5,
   "id": "1ec8ec82",
   "metadata": {},
   "outputs": [
    {
     "data": {
      "text/plain": [
       "(1, 2, 3)"
      ]
     },
     "execution_count": 5,
     "metadata": {},
     "output_type": "execute_result"
    }
   ],
   "source": [
    "t=1,2,3\n",
    "t"
   ]
  },
  {
   "cell_type": "code",
   "execution_count": 24,
   "id": "8a7c8e1f",
   "metadata": {},
   "outputs": [
    {
     "data": {
      "text/plain": [
       "((6, 5, 1), tuple)"
      ]
     },
     "execution_count": 24,
     "metadata": {},
     "output_type": "execute_result"
    }
   ],
   "source": [
    "def fun(x):\n",
    "    return x*2,x+2,x-2\n",
    "o=fun(3)\n",
    "o,type(o)"
   ]
  },
  {
   "cell_type": "code",
   "execution_count": 415,
   "id": "8b226d07",
   "metadata": {},
   "outputs": [
    {
     "data": {
      "text/plain": [
       "3"
      ]
     },
     "execution_count": 415,
     "metadata": {},
     "output_type": "execute_result"
    }
   ],
   "source": [
    "#length of tuple\n",
    "len(t)"
   ]
  },
  {
   "cell_type": "code",
   "execution_count": 448,
   "id": "17bcb3a8",
   "metadata": {},
   "outputs": [
    {
     "data": {
      "text/plain": [
       "(int, tuple)"
      ]
     },
     "execution_count": 448,
     "metadata": {},
     "output_type": "execute_result"
    }
   ],
   "source": [
    "#use comma in tuple if it has only one element \n",
    "t=(1)\n",
    "t2=(1,)\n",
    "type(t),type(t2)"
   ]
  },
  {
   "cell_type": "code",
   "execution_count": 416,
   "id": "2207ff89",
   "metadata": {},
   "outputs": [
    {
     "data": {
      "text/plain": [
       "2"
      ]
     },
     "execution_count": 416,
     "metadata": {},
     "output_type": "execute_result"
    }
   ],
   "source": [
    "#index of elements\n",
    "t.index(32)"
   ]
  },
  {
   "cell_type": "code",
   "execution_count": 421,
   "id": "da1eaefd",
   "metadata": {},
   "outputs": [
    {
     "data": {
      "text/plain": [
       "(14, (12, 13), (56, 67, 56, 14, 13, 12))"
      ]
     },
     "execution_count": 421,
     "metadata": {},
     "output_type": "execute_result"
    }
   ],
   "source": [
    "#accessing element by its index and slicing\n",
    "t=(12,13,14,56,67,56)\n",
    "t[2],t[:2],t[::-1]"
   ]
  },
  {
   "cell_type": "code",
   "execution_count": 422,
   "id": "00608827",
   "metadata": {},
   "outputs": [
    {
     "data": {
      "text/plain": [
       "2"
      ]
     },
     "execution_count": 422,
     "metadata": {},
     "output_type": "execute_result"
    }
   ],
   "source": [
    "#count of a element in tuple\n",
    "t.count(56)"
   ]
  },
  {
   "cell_type": "code",
   "execution_count": 425,
   "id": "20e8ea30",
   "metadata": {},
   "outputs": [
    {
     "name": "stdout",
     "output_type": "stream",
     "text": [
      "12\t13\t14\t56\t67\t56\t"
     ]
    }
   ],
   "source": [
    "#loop through tuple\n",
    "for i in t:print(i,end=\"\\t\")"
   ]
  },
  {
   "cell_type": "code",
   "execution_count": 434,
   "id": "0bccca9f",
   "metadata": {},
   "outputs": [
    {
     "data": {
      "text/plain": [
       "(1, 2, 3, 4)"
      ]
     },
     "execution_count": 434,
     "metadata": {},
     "output_type": "execute_result"
    }
   ],
   "source": [
    "#to concat two tuples\n",
    "(1,2)+(3,4)"
   ]
  },
  {
   "cell_type": "code",
   "execution_count": 433,
   "id": "cf69fc08",
   "metadata": {},
   "outputs": [
    {
     "data": {
      "text/plain": [
       "(1, 2, 3, 4)"
      ]
     },
     "execution_count": 433,
     "metadata": {},
     "output_type": "execute_result"
    }
   ],
   "source": [
    "#since tuples are immutable we cant change it but we can convert it into list,do changes and then convert it back to tuple\n",
    "#to add an element into tuple\n",
    "t=(1,2,3)\n",
    "t=list(t)\n",
    "t.append(4)\n",
    "t=tuple(t)\n",
    "t"
   ]
  },
  {
   "cell_type": "code",
   "execution_count": 442,
   "id": "f003ff8b",
   "metadata": {},
   "outputs": [
    {
     "data": {
      "text/plain": [
       "(1, 2, [3, 4, 5])"
      ]
     },
     "execution_count": 442,
     "metadata": {},
     "output_type": "execute_result"
    }
   ],
   "source": [
    "#unpacking tuples or lists:*indicates take remaining all elements into the variable\n",
    "a,b,*c=(1,2,3,4,5)\n",
    "a,b,c"
   ]
  },
  {
   "cell_type": "code",
   "execution_count": 441,
   "id": "8fcb1531",
   "metadata": {},
   "outputs": [
    {
     "data": {
      "text/plain": [
       "([1, 2, 3, 4], 5)"
      ]
     },
     "execution_count": 441,
     "metadata": {},
     "output_type": "execute_result"
    }
   ],
   "source": [
    "*a,b,=[1,2,3,4,5]\n",
    "a,b"
   ]
  },
  {
   "cell_type": "code",
   "execution_count": 475,
   "id": "91ee3704",
   "metadata": {},
   "outputs": [
    {
     "data": {
      "text/plain": [
       "(1, 2, 3, 1, 2, 3)"
      ]
     },
     "execution_count": 475,
     "metadata": {},
     "output_type": "execute_result"
    }
   ],
   "source": [
    "#repeating\n",
    "t=(1,2,3)\n",
    "t*2"
   ]
  },
  {
   "cell_type": "markdown",
   "id": "b0c98608",
   "metadata": {},
   "source": [
    "### Sets"
   ]
  },
  {
   "cell_type": "markdown",
   "id": "97a3f973",
   "metadata": {},
   "source": [
    "- Sets are unordered means we cannot use indexing\n",
    "- Sets doesnt contain duplicates\n",
    "- We can add and remove items from list but we can not change something because it cant be indexed"
   ]
  },
  {
   "cell_type": "code",
   "execution_count": 450,
   "id": "ca342575",
   "metadata": {},
   "outputs": [
    {
     "data": {
      "text/plain": [
       "set"
      ]
     },
     "execution_count": 450,
     "metadata": {},
     "output_type": "execute_result"
    }
   ],
   "source": [
    "s={1,2,3}\n",
    "type(s)"
   ]
  },
  {
   "cell_type": "code",
   "execution_count": 452,
   "id": "5c3048d3",
   "metadata": {},
   "outputs": [
    {
     "data": {
      "text/plain": [
       "1"
      ]
     },
     "execution_count": 452,
     "metadata": {},
     "output_type": "execute_result"
    }
   ],
   "source": [
    "#length of a set\n",
    "len(s)"
   ]
  },
  {
   "cell_type": "code",
   "execution_count": 462,
   "id": "7324910b",
   "metadata": {},
   "outputs": [
    {
     "data": {
      "text/plain": [
       "{1, 2}"
      ]
     },
     "execution_count": 462,
     "metadata": {},
     "output_type": "execute_result"
    }
   ],
   "source": [
    "#it doesnt contain duplicates. even if we add in it it removes\n",
    "s={1,2,1,2}\n",
    "s"
   ]
  },
  {
   "cell_type": "code",
   "execution_count": 455,
   "id": "70234481",
   "metadata": {},
   "outputs": [
    {
     "name": "stdout",
     "output_type": "stream",
     "text": [
      "1\n",
      "2\n"
     ]
    }
   ],
   "source": [
    "#looping through sets\n",
    "for i in s:\n",
    "    print(i)"
   ]
  },
  {
   "cell_type": "code",
   "execution_count": 463,
   "id": "16307059",
   "metadata": {},
   "outputs": [
    {
     "data": {
      "text/plain": [
       "{1, 2, 3}"
      ]
     },
     "execution_count": 463,
     "metadata": {},
     "output_type": "execute_result"
    }
   ],
   "source": [
    "#adding an element into set\n",
    "s.add(3)\n",
    "s"
   ]
  },
  {
   "cell_type": "code",
   "execution_count": 464,
   "id": "498b5ecc",
   "metadata": {},
   "outputs": [
    {
     "data": {
      "text/plain": [
       "{2, 3}"
      ]
     },
     "execution_count": 464,
     "metadata": {},
     "output_type": "execute_result"
    }
   ],
   "source": [
    "#removing an element from a set\n",
    "s.remove(1)\n",
    "s"
   ]
  },
  {
   "cell_type": "code",
   "execution_count": 467,
   "id": "02e68295",
   "metadata": {},
   "outputs": [
    {
     "data": {
      "text/plain": [
       "{1, 2, 3, 4, 5}"
      ]
     },
     "execution_count": 467,
     "metadata": {},
     "output_type": "execute_result"
    }
   ],
   "source": [
    "#adding a iterable elements into set\n",
    "s1={1,2}\n",
    "s2={3,4}\n",
    "s1.update([3,4,5])\n",
    "s1"
   ]
  },
  {
   "cell_type": "code",
   "execution_count": 471,
   "id": "c06f42c8",
   "metadata": {},
   "outputs": [
    {
     "data": {
      "text/plain": [
       "set()"
      ]
     },
     "execution_count": 471,
     "metadata": {},
     "output_type": "execute_result"
    }
   ],
   "source": [
    "#removing all elements from set\n",
    "s={1,2,4}\n",
    "s.clear()\n",
    "s"
   ]
  },
  {
   "cell_type": "code",
   "execution_count": 468,
   "id": "4e7d8f1e",
   "metadata": {},
   "outputs": [
    {
     "data": {
      "text/plain": [
       "{1, 2, 3, 4, 5}"
      ]
     },
     "execution_count": 468,
     "metadata": {},
     "output_type": "execute_result"
    }
   ],
   "source": [
    "#since sets can be updated with new elements in place, we need to use copy for copying just like lists\n",
    "s3=s1.copy()\n",
    "s3"
   ]
  },
  {
   "cell_type": "code",
   "execution_count": 9,
   "id": "c2c67efe",
   "metadata": {},
   "outputs": [
    {
     "name": "stdout",
     "output_type": "stream",
     "text": [
      "False\n",
      "True\n",
      "True\n"
     ]
    },
    {
     "data": {
      "text/plain": [
       "({1, 2, 3, 4, 6, 7}, {1, 2}, {3, 4}, {3, 4, 6, 7})"
      ]
     },
     "execution_count": 9,
     "metadata": {},
     "output_type": "execute_result"
    }
   ],
   "source": [
    "#set exclusive operations:\n",
    "s1={1,2,3,4}\n",
    "s2={1,2,6,7}\n",
    "s3={1,4}\n",
    "s3=s1.union(s2)\n",
    "s4=s1.intersection(s2)\n",
    "s5=s1.difference(s2)\n",
    "s6=s1.symmetric_difference(s2)\n",
    "print(s1.isdisjoint(s2))\n",
    "print(s1.issubset(s3))\n",
    "print(s3.issuperset(s1))\n",
    "s3,s4,s5,s6\n"
   ]
  },
  {
   "cell_type": "code",
   "execution_count": 88,
   "id": "898ef639",
   "metadata": {},
   "outputs": [
    {
     "data": {
      "text/plain": [
       "frozenset"
      ]
     },
     "execution_count": 88,
     "metadata": {},
     "output_type": "execute_result"
    }
   ],
   "source": [
    "#frozen set is a set which cant be changed i.e. it is immutable\n",
    "#we cant add or delete or update elements in this\n",
    "s={1,2,3}\n",
    "f=frozenset(s)\n",
    "type(f)"
   ]
  },
  {
   "cell_type": "code",
   "execution_count": 8,
   "id": "268d3708",
   "metadata": {},
   "outputs": [
    {
     "data": {
      "text/plain": [
       "({3, 4}, {1, 2, 3, 4, 5, 6}, {1, 2, 5, 6})"
      ]
     },
     "execution_count": 8,
     "metadata": {},
     "output_type": "execute_result"
    }
   ],
   "source": [
    "s1={1,2,3,4}\n",
    "s2={3,4,5,6}\n",
    "s1&s2,s1|s2,s1^s2"
   ]
  },
  {
   "cell_type": "markdown",
   "id": "7a42d13b",
   "metadata": {},
   "source": [
    "### Dictionary"
   ]
  },
  {
   "cell_type": "markdown",
   "id": "3a84050a",
   "metadata": {},
   "source": [
    "- Dictionary are key-value pairs\n",
    "- It is ordered ,changeable \n",
    "- keys cant be duplicates but values can be \n"
   ]
  },
  {
   "cell_type": "code",
   "execution_count": 544,
   "id": "cb19a92a",
   "metadata": {},
   "outputs": [
    {
     "data": {
      "text/plain": [
       "dict"
      ]
     },
     "execution_count": 544,
     "metadata": {},
     "output_type": "execute_result"
    }
   ],
   "source": [
    "d={\"name\":\"akshay\",\"age\":24,\"gender\":\"male\",\"score\":[100,99,100]}\n",
    "type(d)"
   ]
  },
  {
   "cell_type": "code",
   "execution_count": 487,
   "id": "9bd239f6",
   "metadata": {},
   "outputs": [
    {
     "data": {
      "text/plain": [
       "3"
      ]
     },
     "execution_count": 487,
     "metadata": {},
     "output_type": "execute_result"
    }
   ],
   "source": [
    "len(d)"
   ]
  },
  {
   "cell_type": "code",
   "execution_count": 488,
   "id": "18332906",
   "metadata": {},
   "outputs": [
    {
     "data": {
      "text/plain": [
       "{1: 0, 2: 0}"
      ]
     },
     "execution_count": 488,
     "metadata": {},
     "output_type": "execute_result"
    }
   ],
   "source": [
    "#keys cant be duplicates but values can have\n",
    "{1:0,2:0,1:0}"
   ]
  },
  {
   "cell_type": "code",
   "execution_count": 501,
   "id": "8f29cbc1",
   "metadata": {},
   "outputs": [
    {
     "data": {
      "text/plain": [
       "({1: 2}, {'name': 0, 'age': 0})"
      ]
     },
     "execution_count": 501,
     "metadata": {},
     "output_type": "execute_result"
    }
   ],
   "source": [
    "#dict constructor\n",
    "dict({1:2}),dict(name=0,age=0)"
   ]
  },
  {
   "cell_type": "code",
   "execution_count": 541,
   "id": "adabc7cf",
   "metadata": {},
   "outputs": [
    {
     "data": {
      "text/plain": [
       "{1: 0, 2: 0, 3: 0}"
      ]
     },
     "execution_count": 541,
     "metadata": {},
     "output_type": "execute_result"
    }
   ],
   "source": [
    "#creating dictionary from list of keys and its values are 0.default is None\n",
    "di={}\n",
    "di.fromkeys([1,2,3],0)"
   ]
  },
  {
   "cell_type": "code",
   "execution_count": 112,
   "id": "048d7b1a",
   "metadata": {},
   "outputs": [
    {
     "data": {
      "text/plain": [
       "{1: None, 2: None, 3: None}"
      ]
     },
     "execution_count": 112,
     "metadata": {},
     "output_type": "execute_result"
    }
   ],
   "source": [
    "#no need to define like before\n",
    "dict.fromkeys([1,2,3])"
   ]
  },
  {
   "cell_type": "code",
   "execution_count": 549,
   "id": "e5179482",
   "metadata": {},
   "outputs": [
    {
     "data": {
      "text/plain": [
       "('akshay', 24, 'male', 'not specified')"
      ]
     },
     "execution_count": 549,
     "metadata": {},
     "output_type": "execute_result"
    }
   ],
   "source": [
    "#accessing elements\n",
    "#in get method u can specify value. if key doesnt exist in d then that value will be returned but while directly accessing it gives error\n",
    "d[\"name\"],d[\"age\"],d.get(\"gender\"),d.get(\"college\",\"not specified\")"
   ]
  },
  {
   "cell_type": "code",
   "execution_count": 516,
   "id": "7a632a77",
   "metadata": {},
   "outputs": [
    {
     "name": "stdout",
     "output_type": "stream",
     "text": [
      "name\tage\tgender\tscore\t\n",
      "\n",
      "akshay\t24\tmale\t[100, 99, 100]\t\n",
      "-----\n",
      "name : akshay\n",
      "age : 24\n",
      "gender : male\n",
      "score : [100, 99, 100]\n"
     ]
    }
   ],
   "source": [
    "#looping dictionary\n",
    "for i in d.keys():\n",
    "    print(i,end=\"\\t\")\n",
    "print(\"\\n\")\n",
    "for i in d.values():\n",
    "    print(i,end=\"\\t\")\n",
    "print(\"\\n-----\")\n",
    "for i,j in d.items():\n",
    "    print(i,\":\",j)"
   ]
  },
  {
   "cell_type": "code",
   "execution_count": 517,
   "id": "1e7d5929",
   "metadata": {},
   "outputs": [
    {
     "data": {
      "text/plain": [
       "{'name': 'akshay', 'age': 24, 'gender': 'male', 'score': [100, 99, 100]}"
      ]
     },
     "execution_count": 517,
     "metadata": {},
     "output_type": "execute_result"
    }
   ],
   "source": [
    "#copying dictionary\n",
    "d1=d.copy()\n",
    "d1"
   ]
  },
  {
   "cell_type": "code",
   "execution_count": 525,
   "id": "a5c0c235",
   "metadata": {},
   "outputs": [
    {
     "data": {
      "text/plain": [
       "{'name': 'akshay',\n",
       " 'age': 24,\n",
       " 'gender': 'male',\n",
       " 'score': [100, 99, 100],\n",
       " 'salary': '25lac',\n",
       " 'place': 'kpur'}"
      ]
     },
     "execution_count": 525,
     "metadata": {},
     "output_type": "execute_result"
    }
   ],
   "source": [
    "#adding elements into a dictionary:directly or using update method\n",
    "d[\"salary\"]='25lac'\n",
    "d.update({\"place\":\"kpur\"})\n",
    "d"
   ]
  },
  {
   "cell_type": "code",
   "execution_count": 526,
   "id": "bd754e15",
   "metadata": {},
   "outputs": [
    {
     "data": {
      "text/plain": [
       "{'name': 'akshay', 'age': 24, 'gender': 'male', 'score': [100, 99, 100]}"
      ]
     },
     "execution_count": 526,
     "metadata": {},
     "output_type": "execute_result"
    }
   ],
   "source": [
    "#removing elements from dictionary:del or pop\n",
    "d.pop(\"salary\")\n",
    "del d[\"place\"]\n",
    "d"
   ]
  },
  {
   "cell_type": "code",
   "execution_count": 528,
   "id": "61e43fb0",
   "metadata": {},
   "outputs": [
    {
     "data": {
      "text/plain": [
       "{}"
      ]
     },
     "execution_count": 528,
     "metadata": {},
     "output_type": "execute_result"
    }
   ],
   "source": [
    "#delete dictionary or clearing its elements: del and clear\n",
    "d.clear()\n",
    "#del d"
   ]
  },
  {
   "cell_type": "code",
   "execution_count": 555,
   "id": "e1444b62",
   "metadata": {},
   "outputs": [
    {
     "data": {
      "text/plain": [
       "{2: 4, 4: 16, 6: 36, 8: 64}"
      ]
     },
     "execution_count": 555,
     "metadata": {},
     "output_type": "execute_result"
    }
   ],
   "source": [
    "#dictionary comprehension\n",
    "d={i:i**2 for i in range(1,10) if i%2==0}\n",
    "d"
   ]
  },
  {
   "cell_type": "code",
   "execution_count": 13,
   "id": "102edc13",
   "metadata": {},
   "outputs": [
    {
     "data": {
      "text/plain": [
       "{1: 0, 2: 4, 3: 0, 4: 16, 5: 0, 6: 36, 7: 0, 8: 64, 9: 0}"
      ]
     },
     "execution_count": 13,
     "metadata": {},
     "output_type": "execute_result"
    }
   ],
   "source": [
    "d={i:i**2 if i%2==0 else 0 for i in range(1,10) }\n",
    "d"
   ]
  },
  {
   "cell_type": "code",
   "execution_count": 557,
   "id": "002b6e9c",
   "metadata": {},
   "outputs": [
    {
     "data": {
      "text/plain": [
       "{1: 'a', 2: 'b', 3: 'c'}"
      ]
     },
     "execution_count": 557,
     "metadata": {},
     "output_type": "execute_result"
    }
   ],
   "source": [
    "#dictionary from two lists using zip function\n",
    "l1=[1,2,3]\n",
    "l2=[\"a\",\"b\",\"c\"]\n",
    "d=dict(zip(l1,l2))\n",
    "d"
   ]
  },
  {
   "cell_type": "code",
   "execution_count": 113,
   "id": "296e4170",
   "metadata": {},
   "outputs": [
    {
     "data": {
      "text/plain": [
       "[1, 2, 4, 3]"
      ]
     },
     "execution_count": 113,
     "metadata": {},
     "output_type": "execute_result"
    }
   ],
   "source": [
    "#removing duplicates from a list\n",
    "l=[1,1,1,2,2,4,3]\n",
    "list(dict.fromkeys(l))"
   ]
  },
  {
   "cell_type": "code",
   "execution_count": 23,
   "id": "2fdc0d64",
   "metadata": {},
   "outputs": [
    {
     "data": {
      "text/plain": [
       "{1: 50, 2: 20, 3: 30, 4: 40}"
      ]
     },
     "execution_count": 23,
     "metadata": {},
     "output_type": "execute_result"
    }
   ],
   "source": [
    "#combining two dictionary\n",
    "d1={1:10,2:20}\n",
    "d2={3:30,4:40,1:50}\n",
    "d1|d2"
   ]
  },
  {
   "cell_type": "code",
   "execution_count": 5,
   "id": "05dafc29",
   "metadata": {},
   "outputs": [
    {
     "data": {
      "text/plain": [
       "{1: 50, 2: 20, 3: 30, 4: 40}"
      ]
     },
     "execution_count": 5,
     "metadata": {},
     "output_type": "execute_result"
    }
   ],
   "source": [
    "{**d1,**d2}"
   ]
  },
  {
   "cell_type": "code",
   "execution_count": 14,
   "id": "6ef6808e",
   "metadata": {},
   "outputs": [
    {
     "data": {
      "text/plain": [
       "{1: 50, 4: 40, 3: 30, 2: 20, 5: 12}"
      ]
     },
     "execution_count": 14,
     "metadata": {},
     "output_type": "execute_result"
    }
   ],
   "source": [
    "#sorting dictionary based on value\n",
    "d={1:50,2:20,3:30,4:40,5:12}\n",
    "dict(sorted(d.items(),key=lambda x:x[1],reverse=True))"
   ]
  },
  {
   "cell_type": "code",
   "execution_count": 1,
   "id": "d075e45e",
   "metadata": {},
   "outputs": [
    {
     "data": {
      "text/plain": [
       "{1: 'a', 2: 'vv', 3: 'ouo', 6: 'SD', 8: 'ewe'}"
      ]
     },
     "execution_count": 1,
     "metadata": {},
     "output_type": "execute_result"
    }
   ],
   "source": [
    "#sorting dictionary by keys\n",
    "d={1:\"a\",2:\"vv\",8:\"ewe\",6:\"SD\",3:\"ouo\"}\n",
    "dict(sorted(d.items(),key=lambda x:x[0]))"
   ]
  },
  {
   "cell_type": "code",
   "execution_count": 19,
   "id": "93d7b1ba",
   "metadata": {},
   "outputs": [
    {
     "data": {
      "text/plain": [
       "{9: 3, 8: 1, 1: 0, 2: 0, 3: 0, 4: 0, 5: 0}"
      ]
     },
     "execution_count": 19,
     "metadata": {},
     "output_type": "execute_result"
    }
   ],
   "source": [
    "#Insert key with a value of default if key is not in the dictionary\n",
    "d={9:3,8:1}\n",
    "for i in [1,2,3,4,5]:\n",
    "    d.setdefault(i,0)\n",
    "    \n",
    "d"
   ]
  },
  {
   "cell_type": "code",
   "execution_count": 23,
   "id": "0efcf004",
   "metadata": {},
   "outputs": [
    {
     "name": "stdout",
     "output_type": "stream",
     "text": [
      "number\n",
      "2188445444400\n",
      "2188445444432\n",
      "--------------------\n",
      "strings\n",
      "2188563126704\n",
      "2188568697584\n",
      "--------------------\n",
      "tuples\n",
      "2188567303488\n",
      "2188571813744\n",
      "--------------------\n",
      "lists\n",
      "2188567013248\n",
      "2188567013248\n",
      "--------------------\n",
      "sets\n",
      "2188575287104\n",
      "2188575287104\n",
      "--------------------\n",
      "dictionary\n",
      "2188568684864\n",
      "2188568684864\n",
      "--------------------\n"
     ]
    }
   ],
   "source": [
    "#comparing all data types\n",
    "\n",
    "#normal numbers\n",
    "print(\"number\")\n",
    "n=1\n",
    "print(id(n))\n",
    "n=n+1\n",
    "print(id(n))\n",
    "print(\"-\"*20)\n",
    "\n",
    "#strings\n",
    "print(\"strings\")\n",
    "s=\"akshay\"\n",
    "print(id(s))\n",
    "s=s.replace(\"a\",\"s\")\n",
    "print(id(s))\n",
    "print(\"-\"*20)\n",
    "\n",
    "#tuples\n",
    "print(\"tuples\")\n",
    "t=(1,2,3)\n",
    "print(id(t))\n",
    "t=t+(4,5)\n",
    "print(id(t))\n",
    "print(\"-\"*20)\n",
    "\n",
    "#lists\n",
    "print(\"lists\")\n",
    "t=[1,2,3]\n",
    "print(id(t))\n",
    "t.append(4)\n",
    "print(id(t))\n",
    "print(\"-\"*20)\n",
    "\n",
    "#sets\n",
    "print(\"sets\")\n",
    "t={1,2,3}\n",
    "print(id(t))\n",
    "t.add(4)\n",
    "print(id(t))\n",
    "print(\"-\"*20)\n",
    "\n",
    "#dictionary\n",
    "print(\"dictionary\")\n",
    "t={1:\"a\",2:\"b\",3:\"c\"}\n",
    "print(id(t))\n",
    "t[3]=\"cc\"\n",
    "print(id(t))\n",
    "print(\"-\"*20)"
   ]
  },
  {
   "cell_type": "code",
   "execution_count": null,
   "id": "55fe653f",
   "metadata": {},
   "outputs": [],
   "source": [
    "#we can clearly see lists/sets/dictionary are mutables aswell as objects which we will discuss later"
   ]
  },
  {
   "cell_type": "markdown",
   "id": "a0467e7b",
   "metadata": {},
   "source": [
    " ### loops and condition statements"
   ]
  },
  {
   "cell_type": "code",
   "execution_count": 552,
   "id": "ab32daa1",
   "metadata": {},
   "outputs": [
    {
     "name": "stdout",
     "output_type": "stream",
     "text": [
      "hai\n"
     ]
    }
   ],
   "source": [
    "#if-else conditions:\n",
    "#all loops and conditional statements in python relies on indentation\n",
    "a=2\n",
    "b=3\n",
    "if a==2 and b==3:\n",
    "    print(\"hai\")\n",
    "elif a==3 and b==1:\n",
    "    print(\"bye\")\n",
    "else:\n",
    "    pass"
   ]
  },
  {
   "cell_type": "code",
   "execution_count": 560,
   "id": "f8c9e31d",
   "metadata": {},
   "outputs": [
    {
     "name": "stdout",
     "output_type": "stream",
     "text": [
      "1\n",
      "2\n",
      "4\n",
      "---\n",
      "0\n",
      "2\n",
      "4\n",
      "6\n",
      "8\n"
     ]
    }
   ],
   "source": [
    "#for loops\n",
    "for i in [1,2,4]:\n",
    "    print(i)\n",
    "print(\"---\")\n",
    "for i in range(0,10,2):\n",
    "    print(i)"
   ]
  },
  {
   "cell_type": "code",
   "execution_count": 561,
   "id": "32736bf6",
   "metadata": {},
   "outputs": [
    {
     "name": "stdout",
     "output_type": "stream",
     "text": [
      "0\n",
      "1\n",
      "2\n",
      "3\n"
     ]
    }
   ],
   "source": [
    "#break and continue statements\n",
    "for i in range(5):\n",
    "    print(i)\n",
    "    if i==3:\n",
    "        break"
   ]
  },
  {
   "cell_type": "code",
   "execution_count": 563,
   "id": "d004a5dd",
   "metadata": {},
   "outputs": [
    {
     "name": "stdout",
     "output_type": "stream",
     "text": [
      "0\n",
      "1\n",
      "2\n",
      "4\n"
     ]
    }
   ],
   "source": [
    "for i in range(5):\n",
    "    if i==3:\n",
    "        continue\n",
    "    print(i)"
   ]
  },
  {
   "cell_type": "code",
   "execution_count": 566,
   "id": "afc5ff36",
   "metadata": {},
   "outputs": [
    {
     "name": "stdout",
     "output_type": "stream",
     "text": [
      "0\n",
      "1\n",
      "2\n",
      "3\n",
      "4\n"
     ]
    }
   ],
   "source": [
    "#while loop\n",
    "i=0\n",
    "while i<5:\n",
    "    print(i)\n",
    "    i=i+1"
   ]
  },
  {
   "cell_type": "code",
   "execution_count": 8,
   "id": "0f58928a",
   "metadata": {},
   "outputs": [
    {
     "name": "stdout",
     "output_type": "stream",
     "text": [
      "1\n",
      "2\n"
     ]
    }
   ],
   "source": [
    "#else statement in for loop:\n",
    "#if loop is stopped by break then else statement doesnt run. \n",
    "#if loop executes fully then finally it runs\n",
    "for i in [1,2,3]:\n",
    "    print(i)\n",
    "    if i==2:\n",
    "        break\n",
    "else:\n",
    "    print(\"hai\")"
   ]
  },
  {
   "cell_type": "code",
   "execution_count": 7,
   "id": "4c1bf4c1",
   "metadata": {},
   "outputs": [
    {
     "name": "stdout",
     "output_type": "stream",
     "text": [
      "1\n",
      "2\n",
      "hai\n"
     ]
    }
   ],
   "source": [
    "#if we not using else,last statement will definetely run\n",
    "for i in [1,2,3]:\n",
    "    print(i)\n",
    "    if i==2:\n",
    "        break\n",
    "print(\"hai\")"
   ]
  },
  {
   "cell_type": "markdown",
   "id": "e16e2a68",
   "metadata": {},
   "source": [
    "### Functions"
   ]
  },
  {
   "cell_type": "code",
   "execution_count": null,
   "id": "0db425a9",
   "metadata": {},
   "outputs": [],
   "source": [
    "#functions are block of code which runs when we call it.\n",
    "#it can take arguements and be dynamic\n",
    "#it uses return statement to return the results\n",
    "#advantages of using functions are :code reusability,modularity(writing code as small segments),code maintainance easy,less code"
   ]
  },
  {
   "cell_type": "code",
   "execution_count": 573,
   "id": "8268229d",
   "metadata": {},
   "outputs": [],
   "source": [
    "#function creation\n",
    "def fun(n,m):\n",
    "    return n*m"
   ]
  },
  {
   "cell_type": "code",
   "execution_count": 574,
   "id": "630bb3f2",
   "metadata": {},
   "outputs": [
    {
     "data": {
      "text/plain": [
       "(15, 60)"
      ]
     },
     "execution_count": 574,
     "metadata": {},
     "output_type": "execute_result"
    }
   ],
   "source": [
    "#calling the defined function\n",
    "a=fun(5,3)\n",
    "b=fun(10,6)\n",
    "a,b"
   ]
  },
  {
   "cell_type": "code",
   "execution_count": null,
   "id": "79ee092f",
   "metadata": {},
   "outputs": [],
   "source": [
    "#in this above example: n,m are parameters . 5,3 are arguements (for first function call)"
   ]
  },
  {
   "cell_type": "code",
   "execution_count": 23,
   "id": "bd94306c",
   "metadata": {},
   "outputs": [
    {
     "data": {
      "text/plain": [
       "(9, 6)"
      ]
     },
     "execution_count": 23,
     "metadata": {},
     "output_type": "execute_result"
    }
   ],
   "source": [
    "#arbitary arguements:also known as variable length arguement\n",
    "#we can add as many arguements into function separated by commas\n",
    "#if we dont know how many arguements is to be passed to function then u can *args i.e. arbitary arguements\n",
    "#if u pass list then while passing put *before that\n",
    "def add(*n):\n",
    "    sum=0\n",
    "    for i in n:\n",
    "        sum=sum+i\n",
    "    return sum\n",
    "add(2,3,4),add(*[1,5])"
   ]
  },
  {
   "cell_type": "code",
   "execution_count": 578,
   "id": "b058b1b4",
   "metadata": {},
   "outputs": [
    {
     "data": {
      "text/plain": [
       "8"
      ]
     },
     "execution_count": 578,
     "metadata": {},
     "output_type": "execute_result"
    }
   ],
   "source": [
    "#keyword arguements:dont need to worry about order of arguements\n",
    "#it is a way of passing arguments to a function by explicitly specifying the parameter name followed by a value.\n",
    "def fun(n1,n2):\n",
    "    return n1**n2\n",
    "fun(n1=2,n2=3)"
   ]
  },
  {
   "cell_type": "code",
   "execution_count": 24,
   "id": "ff819f75",
   "metadata": {},
   "outputs": [
    {
     "name": "stdout",
     "output_type": "stream",
     "text": [
      "{'n1': 2, 'n2': 3}\n"
     ]
    },
    {
     "data": {
      "text/plain": [
       "8"
      ]
     },
     "execution_count": 24,
     "metadata": {},
     "output_type": "execute_result"
    }
   ],
   "source": [
    "#arbitary keyword arguements:if we dont know how many keyword arguements to send, then use **args\n",
    "#this basically sends dictionary so we need to get values as d[\"key\"]\n",
    "#an arbitrary keyword argument is a way of passing an arbitrary number of keyword arguments to a function.\n",
    "def fun(**d):\n",
    "    print(d)\n",
    "    return d['n1']**d['n2']\n",
    "fun(n1=2,n2=3)"
   ]
  },
  {
   "cell_type": "code",
   "execution_count": 582,
   "id": "ccbc420b",
   "metadata": {},
   "outputs": [
    {
     "data": {
      "text/plain": [
       "(4, 16, 1)"
      ]
     },
     "execution_count": 582,
     "metadata": {},
     "output_type": "execute_result"
    }
   ],
   "source": [
    "#default arguement:if no arguement is passed then n will be 1\n",
    "#and if we have multiple arguements then default arguement should be written at last\n",
    "def fun(n=1):\n",
    "    return n*n\n",
    "fun(2),fun(4),fun()"
   ]
  },
  {
   "cell_type": "code",
   "execution_count": 583,
   "id": "2677b524",
   "metadata": {},
   "outputs": [
    {
     "name": "stdout",
     "output_type": "stream",
     "text": [
      "1\n"
     ]
    }
   ],
   "source": [
    "#global variables:variable which is defined outside the function and it can be used inside as well as outside the function\n",
    "#local variables:these are defined inside the function and it is valid only within function\n",
    "n=1\n",
    "def fun():\n",
    "    print(n)\n",
    "fun()"
   ]
  },
  {
   "cell_type": "code",
   "execution_count": 586,
   "id": "9b567b7c",
   "metadata": {},
   "outputs": [],
   "source": [
    "#here i cant access k outside the function,it gives me error\n",
    "def fun():\n",
    "    k=1\n",
    "fun()"
   ]
  },
  {
   "cell_type": "code",
   "execution_count": 588,
   "id": "d388dd8e",
   "metadata": {},
   "outputs": [
    {
     "name": "stdout",
     "output_type": "stream",
     "text": [
      "1\n"
     ]
    }
   ],
   "source": [
    "#here we can see that global variable y is still 1 because if we try to change the value of it inside function \n",
    "#it will be treated as a local variable there\n",
    "y=1\n",
    "def fun():\n",
    "    y=2\n",
    "fun()\n",
    "print(y)"
   ]
  },
  {
   "cell_type": "code",
   "execution_count": 589,
   "id": "312b6744",
   "metadata": {},
   "outputs": [
    {
     "name": "stdout",
     "output_type": "stream",
     "text": [
      "2\n"
     ]
    }
   ],
   "source": [
    "#to update its value u can use global keyword\n",
    "y=1\n",
    "def fun():\n",
    "    global y\n",
    "    y=2\n",
    "fun()\n",
    "print(y)"
   ]
  },
  {
   "cell_type": "markdown",
   "id": "246914b8",
   "metadata": {},
   "source": [
    "- recursion"
   ]
  },
  {
   "cell_type": "code",
   "execution_count": 1,
   "id": "5744a1f1",
   "metadata": {},
   "outputs": [
    {
     "data": {
      "text/plain": [
       "120"
      ]
     },
     "execution_count": 1,
     "metadata": {},
     "output_type": "execute_result"
    }
   ],
   "source": [
    "#recurssion:calling a function within itself \n",
    "def fact(n):\n",
    "    if n<=1:\n",
    "        return 1\n",
    "    else:\n",
    "        return n*fact(n-1)\n",
    "fact(5)"
   ]
  },
  {
   "cell_type": "markdown",
   "id": "72ae2859",
   "metadata": {},
   "source": [
    "- lambda function"
   ]
  },
  {
   "cell_type": "code",
   "execution_count": 7,
   "id": "2dd66445",
   "metadata": {},
   "outputs": [
    {
     "data": {
      "text/plain": [
       "6"
      ]
     },
     "execution_count": 7,
     "metadata": {},
     "output_type": "execute_result"
    }
   ],
   "source": [
    "#lambda functions:they are anonymous functions. that means lambda functions doesnt have a name\n",
    "#this can take any number of arguements but has only one expressioon\n",
    "a=lambda x:x+1\n",
    "a(5)"
   ]
  },
  {
   "cell_type": "code",
   "execution_count": 8,
   "id": "645f0e8b",
   "metadata": {},
   "outputs": [
    {
     "data": {
      "text/plain": [
       "11"
      ]
     },
     "execution_count": 8,
     "metadata": {},
     "output_type": "execute_result"
    }
   ],
   "source": [
    "a=lambda x,y:x+y\n",
    "a(5,6)"
   ]
  },
  {
   "cell_type": "markdown",
   "id": "6b07fcb7",
   "metadata": {},
   "source": [
    "- nested function and closure"
   ]
  },
  {
   "cell_type": "code",
   "execution_count": 80,
   "id": "0a36c137",
   "metadata": {},
   "outputs": [],
   "source": [
    "#function within another function is called as nested function"
   ]
  },
  {
   "cell_type": "code",
   "execution_count": 84,
   "id": "b575366c",
   "metadata": {},
   "outputs": [
    {
     "name": "stdout",
     "output_type": "stream",
     "text": [
      "i am outer function\n",
      "hello\n"
     ]
    }
   ],
   "source": [
    "#closure:\n",
    "#We can say that closure is a function object that remembers the values present in the enclosed scope\n",
    "#here we can see that variables or parameters of outer functions are accessible to inner function\n",
    "def outer(text):\n",
    "    print(\"i am outer function\")\n",
    "    def inner():\n",
    "        print(text)\n",
    "    return inner()\n",
    "outer(\"hello\")"
   ]
  },
  {
   "cell_type": "code",
   "execution_count": 85,
   "id": "62da0280",
   "metadata": {},
   "outputs": [
    {
     "name": "stdout",
     "output_type": "stream",
     "text": [
      "i am outer function\n",
      "4\n"
     ]
    }
   ],
   "source": [
    "#passing a function as a parameter\n",
    "def outer(func):\n",
    "    print(\"i am outer function\")\n",
    "    def inner():\n",
    "        print(func([1,2,3,4]))\n",
    "    return inner()\n",
    "outer(len)"
   ]
  },
  {
   "cell_type": "markdown",
   "id": "6bb991d9",
   "metadata": {},
   "source": [
    "- decorator"
   ]
  },
  {
   "cell_type": "code",
   "execution_count": null,
   "id": "bd257e00",
   "metadata": {},
   "outputs": [],
   "source": [
    "#Decorators are a very powerful and useful tool in Python \n",
    "#since it allows programmers to modify the behaviour of a function or class. \n",
    "#Decorators allow us to wrap another function in order to \n",
    "#extend the behaviour of the wrapped function, without permanently modifying it"
   ]
  },
  {
   "cell_type": "code",
   "execution_count": 90,
   "id": "818f4f48",
   "metadata": {},
   "outputs": [],
   "source": [
    "def fun():\n",
    "    print(\"i am an user defined function\")"
   ]
  },
  {
   "cell_type": "code",
   "execution_count": 97,
   "id": "11646d36",
   "metadata": {},
   "outputs": [],
   "source": [
    "#passing user defined function as a parameter\n",
    "def outer(fun):\n",
    "    def inner():\n",
    "        fun()\n",
    "    return inner()"
   ]
  },
  {
   "cell_type": "code",
   "execution_count": 94,
   "id": "0ed6e87c",
   "metadata": {},
   "outputs": [
    {
     "name": "stdout",
     "output_type": "stream",
     "text": [
      "i am an user defined function\n"
     ]
    }
   ],
   "source": [
    "outer(fun)"
   ]
  },
  {
   "cell_type": "code",
   "execution_count": 98,
   "id": "c11b84bb",
   "metadata": {},
   "outputs": [
    {
     "name": "stdout",
     "output_type": "stream",
     "text": [
      "demo of decorator\n"
     ]
    }
   ],
   "source": [
    "#now doing the same thing with decorator\n",
    "@outer\n",
    "def fun():\n",
    "    print(\"demo of decorator\")"
   ]
  },
  {
   "cell_type": "code",
   "execution_count": null,
   "id": "90a1e9f3",
   "metadata": {},
   "outputs": [],
   "source": [
    "#so this is equivalent of:fun=outer(fun) . (there are difference though)\n",
    "#@decorator above a function implies that decorator takes the below function as an arguement"
   ]
  },
  {
   "cell_type": "code",
   "execution_count": null,
   "id": "47678d6a",
   "metadata": {},
   "outputs": [],
   "source": [
    "#Using the decorator syntax is more concise because it combines the\n",
    "#function definition and the decorator application into a single step. This can make the code easier to read and understand,\n",
    "#especially when you are working with more complex functions and decorators."
   ]
  },
  {
   "cell_type": "code",
   "execution_count": 101,
   "id": "a74b90f0",
   "metadata": {},
   "outputs": [
    {
     "name": "stdout",
     "output_type": "stream",
     "text": [
      "I got decorated\n",
      "I am ordinary\n"
     ]
    }
   ],
   "source": [
    "#another example of decorator\n",
    "def make_pretty(func):\n",
    "\n",
    "    def inner():\n",
    "        print(\"I got decorated\")\n",
    "        func()\n",
    "    return inner\n",
    "\n",
    "@make_pretty\n",
    "def ordinary():\n",
    "    print(\"I am ordinary\") \n",
    "ordinary()"
   ]
  },
  {
   "cell_type": "code",
   "execution_count": null,
   "id": "700f8605",
   "metadata": {},
   "outputs": [],
   "source": [
    "#this decorators are used widely  like in django/flask routers,apis and in time evaluation etc"
   ]
  },
  {
   "cell_type": "markdown",
   "id": "f7f38111",
   "metadata": {},
   "source": [
    "### Python builtin functions"
   ]
  },
  {
   "cell_type": "markdown",
   "id": "2694afba",
   "metadata": {},
   "source": [
    "- Mathematical functions"
   ]
  },
  {
   "cell_type": "code",
   "execution_count": 3,
   "id": "e33d30f7",
   "metadata": {},
   "outputs": [
    {
     "data": {
      "text/plain": [
       "3"
      ]
     },
     "execution_count": 3,
     "metadata": {},
     "output_type": "execute_result"
    }
   ],
   "source": [
    "#absolute value of a number\n",
    "abs(-3)"
   ]
  },
  {
   "cell_type": "code",
   "execution_count": 6,
   "id": "b72fd4fd",
   "metadata": {},
   "outputs": [
    {
     "data": {
      "text/plain": [
       "3.15"
      ]
     },
     "execution_count": 6,
     "metadata": {},
     "output_type": "execute_result"
    }
   ],
   "source": [
    "#round off a number to certain decimal digits\n",
    "round(3.145,2)"
   ]
  },
  {
   "cell_type": "code",
   "execution_count": 23,
   "id": "30c34257",
   "metadata": {},
   "outputs": [
    {
     "data": {
      "text/plain": [
       "16"
      ]
     },
     "execution_count": 23,
     "metadata": {},
     "output_type": "execute_result"
    }
   ],
   "source": [
    "#power of a number\n",
    "pow(2,4)"
   ]
  },
  {
   "cell_type": "code",
   "execution_count": 72,
   "id": "8cd48499",
   "metadata": {},
   "outputs": [
    {
     "data": {
      "text/plain": [
       "(2, 0)"
      ]
     },
     "execution_count": 72,
     "metadata": {},
     "output_type": "execute_result"
    }
   ],
   "source": [
    "#divmod gives quotient and remainder \n",
    "divmod(8,4)"
   ]
  },
  {
   "cell_type": "code",
   "execution_count": 34,
   "id": "b41c4d36",
   "metadata": {},
   "outputs": [
    {
     "data": {
      "text/plain": [
       "(280, 480, 7, 60)"
      ]
     },
     "execution_count": 34,
     "metadata": {},
     "output_type": "execute_result"
    }
   ],
   "source": [
    "#sum of an iterable\n",
    "#sum(iterable,start=0)\n",
    "#start means sum starts from that number.if i give start as 100 then every number in iterable will add to 100\n",
    "l=[10,20,30,40,50,60,70]\n",
    "p=(1,2,4)\n",
    "d={\"a\":10,\"b\":20,\"c\":30}\n",
    "sum(l),sum(l,200),sum(p),sum(d.values())"
   ]
  },
  {
   "cell_type": "code",
   "execution_count": 15,
   "id": "bd4f4d36",
   "metadata": {},
   "outputs": [
    {
     "data": {
      "text/plain": [
       "6"
      ]
     },
     "execution_count": 15,
     "metadata": {},
     "output_type": "execute_result"
    }
   ],
   "source": [
    "a=[1,2,3]\n",
    "sum(i for i in a)"
   ]
  },
  {
   "cell_type": "code",
   "execution_count": 16,
   "id": "897ba249",
   "metadata": {},
   "outputs": [
    {
     "data": {
      "text/plain": [
       "<generator object <genexpr> at 0x0000029F392586D0>"
      ]
     },
     "execution_count": 16,
     "metadata": {},
     "output_type": "execute_result"
    }
   ],
   "source": [
    "(i for i in a)"
   ]
  },
  {
   "cell_type": "code",
   "execution_count": 17,
   "id": "d5a9ce94",
   "metadata": {},
   "outputs": [
    {
     "data": {
      "text/plain": [
       "((1, 2, 3), {1, 2, 3})"
      ]
     },
     "execution_count": 17,
     "metadata": {},
     "output_type": "execute_result"
    }
   ],
   "source": [
    "tuple(i for i in a),set(i for i in a)"
   ]
  },
  {
   "cell_type": "code",
   "execution_count": 37,
   "id": "24f446ae",
   "metadata": {},
   "outputs": [
    {
     "data": {
      "text/plain": [
       "(3, 1)"
      ]
     },
     "execution_count": 37,
     "metadata": {},
     "output_type": "execute_result"
    }
   ],
   "source": [
    "#maximum  and minimum\n",
    "#max(iterable,key=func)\n",
    "l=[1,2,3]\n",
    "max(l),min(l)"
   ]
  },
  {
   "cell_type": "code",
   "execution_count": 48,
   "id": "42883057",
   "metadata": {},
   "outputs": [],
   "source": [
    "l=[1,1,2,2,2,3]"
   ]
  },
  {
   "cell_type": "code",
   "execution_count": 49,
   "id": "f56ece3e",
   "metadata": {},
   "outputs": [
    {
     "data": {
      "text/plain": [
       "2"
      ]
     },
     "execution_count": 49,
     "metadata": {},
     "output_type": "execute_result"
    }
   ],
   "source": [
    "#most occuring one element in list:this doesnt work if it has more than one large element\n",
    "max(l,key=l.count)"
   ]
  },
  {
   "cell_type": "code",
   "execution_count": 50,
   "id": "6a3fc56b",
   "metadata": {},
   "outputs": [
    {
     "data": {
      "text/plain": [
       "('bag', 1000)"
      ]
     },
     "execution_count": 50,
     "metadata": {},
     "output_type": "execute_result"
    }
   ],
   "source": [
    "#highest cost among products\n",
    "l=[('bag',1000),('pen',10),('book',30)]\n",
    "max(l,key=lambda x:x[1])"
   ]
  },
  {
   "cell_type": "code",
   "execution_count": 56,
   "id": "75439367",
   "metadata": {},
   "outputs": [
    {
     "data": {
      "text/plain": [
       "200"
      ]
     },
     "execution_count": 56,
     "metadata": {},
     "output_type": "execute_result"
    }
   ],
   "source": [
    "#in dictionary\n",
    "d={\"a\":100,\"b\":200,\"c\":40,\"d\":30}\n",
    "max(d.values())"
   ]
  },
  {
   "cell_type": "markdown",
   "id": "9e1849c2",
   "metadata": {},
   "source": [
    "- Zip Function"
   ]
  },
  {
   "cell_type": "code",
   "execution_count": 27,
   "id": "07e7afc9",
   "metadata": {},
   "outputs": [
    {
     "name": "stdout",
     "output_type": "stream",
     "text": [
      "1 4 7\n",
      "2 5 8\n",
      "3 6 9\n"
     ]
    }
   ],
   "source": [
    "#zip function:\n",
    "#zip functions returns iterator of tuples\n",
    "#elements of tuple are  from respective iterators given for zip function which are paired together according to their order\n",
    "#we can pass any number of iterables for zip function but it gives us only one iterator of tuples\n",
    " \n",
    "l=[1,2,3]\n",
    "p=[4,5,6]\n",
    "q=[7,8,9]\n",
    "for i,j,m in zip(l,p,q):\n",
    "    print(i,j,m)"
   ]
  },
  {
   "cell_type": "code",
   "execution_count": 30,
   "id": "fea70779",
   "metadata": {},
   "outputs": [
    {
     "data": {
      "text/plain": [
       "[(1, 4, 7), (2, 5, 8), (3, 6, 9)]"
      ]
     },
     "execution_count": 30,
     "metadata": {},
     "output_type": "execute_result"
    }
   ],
   "source": [
    "list(zip(l,p,q))"
   ]
  },
  {
   "cell_type": "code",
   "execution_count": 12,
   "id": "66a1198e",
   "metadata": {},
   "outputs": [
    {
     "name": "stdout",
     "output_type": "stream",
     "text": [
      "1 4 7\n"
     ]
    }
   ],
   "source": [
    "#if length of iterators passed to zip are different then iterator with minimum length decides the length of final output\n",
    "#here one of the iterators length is 1 ,so final output will have only one tuple\n",
    "l=[1,2,3]\n",
    "p=[4,5,6]\n",
    "q=[7]\n",
    "for i,j,m in zip(l,p,q):\n",
    "    print(i,j,m)"
   ]
  },
  {
   "cell_type": "markdown",
   "id": "735a9502",
   "metadata": {},
   "source": [
    "- print function and input function"
   ]
  },
  {
   "cell_type": "code",
   "execution_count": 15,
   "id": "917591a2",
   "metadata": {},
   "outputs": [
    {
     "name": "stdout",
     "output_type": "stream",
     "text": [
      "hello\n",
      "hello\thello\n"
     ]
    }
   ],
   "source": [
    "#it is used to print a msg/result on to screen\n",
    "print(\"hello\")\n",
    "print(\"hello\",end=\"\\t\")\n",
    "print(\"hello\")"
   ]
  },
  {
   "cell_type": "code",
   "execution_count": 19,
   "id": "f9159451",
   "metadata": {},
   "outputs": [
    {
     "name": "stdout",
     "output_type": "stream",
     "text": [
      "enter a number:5\n",
      "number4\n"
     ]
    },
    {
     "data": {
      "text/plain": [
       "(str, int)"
      ]
     },
     "execution_count": 19,
     "metadata": {},
     "output_type": "execute_result"
    }
   ],
   "source": [
    "#input function is used to take user defined input \n",
    "#it takes input in string format. so if we want to take interger as an input then use int()\n",
    "n=input(\"enter a number:\")\n",
    "m=int(input(\"number\"))\n",
    "type(n),type(m)"
   ]
  },
  {
   "cell_type": "code",
   "execution_count": 21,
   "id": "c74f11ee",
   "metadata": {},
   "outputs": [
    {
     "name": "stdout",
     "output_type": "stream",
     "text": [
      "1 6 9 6 2\n"
     ]
    },
    {
     "data": {
      "text/plain": [
       "[1, 6, 9, 6, 2]"
      ]
     },
     "execution_count": 21,
     "metadata": {},
     "output_type": "execute_result"
    }
   ],
   "source": [
    "#taking user inputs for a list\n",
    "l=[int(i) for i in input().split(\" \")]\n",
    "l"
   ]
  },
  {
   "cell_type": "markdown",
   "id": "8d4e4535",
   "metadata": {},
   "source": [
    "- enumerate,all,any"
   ]
  },
  {
   "cell_type": "code",
   "execution_count": null,
   "id": "3d0f7913",
   "metadata": {},
   "outputs": [],
   "source": [
    "#enumerate function:add a counter as a key to iterable elements"
   ]
  },
  {
   "cell_type": "code",
   "execution_count": 58,
   "id": "eefea8b4",
   "metadata": {},
   "outputs": [
    {
     "data": {
      "text/plain": [
       "[(0, 'a'), (1, 'c'), (2, 'd'), (3, 'f')]"
      ]
     },
     "execution_count": 58,
     "metadata": {},
     "output_type": "execute_result"
    }
   ],
   "source": [
    "l=[\"a\",\"c\",\"d\",\"f\"]\n",
    "list(enumerate(l))"
   ]
  },
  {
   "cell_type": "code",
   "execution_count": 70,
   "id": "a46fd957",
   "metadata": {},
   "outputs": [
    {
     "data": {
      "text/plain": [
       "(True, False, True, False)"
      ]
     },
     "execution_count": 70,
     "metadata": {},
     "output_type": "execute_result"
    }
   ],
   "source": [
    "#all:returns true of all elements in iterable are True\n",
    "#any:returns True if atleast one item is True\n",
    "all ([1,2,3]),all([0,1]),any([1,0,0]),any([20<10,30<20])"
   ]
  },
  {
   "cell_type": "markdown",
   "id": "052ce110",
   "metadata": {},
   "source": [
    "- filter and map functions"
   ]
  },
  {
   "cell_type": "code",
   "execution_count": 79,
   "id": "b41451ef",
   "metadata": {},
   "outputs": [
    {
     "data": {
      "text/plain": [
       "[2, 4, 6, 8]"
      ]
     },
     "execution_count": 79,
     "metadata": {},
     "output_type": "execute_result"
    }
   ],
   "source": [
    "#filter function:it takes a function and iterable and it return only True elements\n",
    "#The filter function returns an iterator where the items are filtered through function to test if item is accepted or not.\n",
    "# we need to convert map and filter objects to list for readability purpose\n",
    "l=[1,2,3,4,5,6,7,8]\n",
    "l1=list(filter(lambda x:x%2==0,l))\n",
    "l1"
   ]
  },
  {
   "cell_type": "code",
   "execution_count": 81,
   "id": "bd4bbaf9",
   "metadata": {},
   "outputs": [
    {
     "data": {
      "text/plain": [
       "['a', 'v']"
      ]
     },
     "execution_count": 81,
     "metadata": {},
     "output_type": "execute_result"
    }
   ],
   "source": [
    "#selecting only lower case letters from\n",
    "l=[\"a\",\"A\",\"W\",\"v\"]\n",
    "list(filter(lambda x:x.islower(),l))"
   ]
  },
  {
   "cell_type": "code",
   "execution_count": 82,
   "id": "3d0ceaf6",
   "metadata": {},
   "outputs": [],
   "source": [
    "#map functions also takes a function and an iterable\n",
    "#The map() function executes a specified function for each item in an iterable. \n",
    "#The item is sent to the function as a parameter."
   ]
  },
  {
   "cell_type": "code",
   "execution_count": 84,
   "id": "801e89f5",
   "metadata": {},
   "outputs": [
    {
     "data": {
      "text/plain": [
       "[2, 4, 6]"
      ]
     },
     "execution_count": 84,
     "metadata": {},
     "output_type": "execute_result"
    }
   ],
   "source": [
    "l=[1,2,3]\n",
    "list(map(lambda x:x*2,l))"
   ]
  },
  {
   "cell_type": "code",
   "execution_count": 85,
   "id": "e36bc9a2",
   "metadata": {},
   "outputs": [
    {
     "data": {
      "text/plain": [
       "[2, 4, 6]"
      ]
     },
     "execution_count": 85,
     "metadata": {},
     "output_type": "execute_result"
    }
   ],
   "source": [
    "#doing this using user defined function instead of lambda function\n",
    "def fun(x):\n",
    "    return x*2\n",
    "list(map(fun,l))"
   ]
  },
  {
   "cell_type": "code",
   "execution_count": 86,
   "id": "80325159",
   "metadata": {},
   "outputs": [
    {
     "data": {
      "text/plain": [
       "[6, 3, 5, 7]"
      ]
     },
     "execution_count": 86,
     "metadata": {},
     "output_type": "execute_result"
    }
   ],
   "source": [
    "#length of strings in list\n",
    "l=[\"akshay\",\"asd\",\"afdfv\",\"rfjnfvk\"]\n",
    "list(map(lambda x:len(x),l))"
   ]
  },
  {
   "cell_type": "code",
   "execution_count": 2,
   "id": "fc728fe9",
   "metadata": {},
   "outputs": [
    {
     "data": {
      "text/plain": [
       "[1, 2, 3, 1, 1]"
      ]
     },
     "execution_count": 2,
     "metadata": {},
     "output_type": "execute_result"
    }
   ],
   "source": [
    "l=[1,2,3,4,5]\n",
    "list(map(lambda x:1 if x>3 else x,l))"
   ]
  },
  {
   "cell_type": "markdown",
   "id": "c673928d",
   "metadata": {},
   "source": [
    "- some other functions"
   ]
  },
  {
   "cell_type": "code",
   "execution_count": 91,
   "id": "969dfc6d",
   "metadata": {},
   "outputs": [
    {
     "data": {
      "text/plain": [
       "[3, 6, 2, 5, 1]"
      ]
     },
     "execution_count": 91,
     "metadata": {},
     "output_type": "execute_result"
    }
   ],
   "source": [
    "#reversed:\n",
    "l=[1,5,2,6,3]\n",
    "list(reversed(l))"
   ]
  },
  {
   "cell_type": "code",
   "execution_count": 98,
   "id": "ab73690e",
   "metadata": {},
   "outputs": [
    {
     "data": {
      "text/plain": [
       "(1, 2)"
      ]
     },
     "execution_count": 98,
     "metadata": {},
     "output_type": "execute_result"
    }
   ],
   "source": [
    "#slice:\n",
    "t=(1,2,3,4)\n",
    "x=slice(2)\n",
    "t[x]"
   ]
  },
  {
   "cell_type": "code",
   "execution_count": 104,
   "id": "36fc1a01",
   "metadata": {},
   "outputs": [
    {
     "data": {
      "text/plain": [
       "(1, 2, 3)"
      ]
     },
     "execution_count": 104,
     "metadata": {},
     "output_type": "execute_result"
    }
   ],
   "source": [
    "#iter:\n",
    "#The iter() function returns an iterator object.\n",
    "#next() function is used to get next item in iterator\n",
    "l=iter([1,2,3])\n",
    "next(l),next(l),next(l)"
   ]
  },
  {
   "cell_type": "code",
   "execution_count": null,
   "id": "8bdc5de4",
   "metadata": {},
   "outputs": [],
   "source": [
    "#iterable is an object which we can iterate over\n",
    "#but for that it needs to be converted into iterator as the intermediate process\n",
    "#for example in python when we loop though the string which is an iterable ,\n",
    "#for loop converts that to iterator behind the scene\n",
    "#iter() function can be used to convert iterable to iterator\n",
    "#an iterator is an object that is used to iterate over iterable using next \n",
    "#every iterator is an iterable but not vice versa\n",
    "#next function is used to go to next element"
   ]
  },
  {
   "cell_type": "code",
   "execution_count": 106,
   "id": "ebd35e6c",
   "metadata": {},
   "outputs": [
    {
     "data": {
      "text/plain": [
       "15"
      ]
     },
     "execution_count": 106,
     "metadata": {},
     "output_type": "execute_result"
    }
   ],
   "source": [
    "#eval function:this functions evaluated python functions written in string\n",
    "eval(\"5+10\")"
   ]
  },
  {
   "cell_type": "code",
   "execution_count": 110,
   "id": "179f1aaa",
   "metadata": {},
   "outputs": [
    {
     "data": {
      "text/plain": [
       "200"
      ]
     },
     "execution_count": 110,
     "metadata": {},
     "output_type": "execute_result"
    }
   ],
   "source": [
    "eval('x*y',{'x':10,'y':20})"
   ]
  },
  {
   "cell_type": "code",
   "execution_count": null,
   "id": "c0624022",
   "metadata": {},
   "outputs": [],
   "source": [
    "# Iterator in Python is an object that is used to iterate over iterable objects like lists, tuples, dicts, and sets"
   ]
  },
  {
   "cell_type": "markdown",
   "id": "c793bf20",
   "metadata": {},
   "source": [
    "### Exception handling"
   ]
  },
  {
   "cell_type": "code",
   "execution_count": null,
   "id": "7d51f18b",
   "metadata": {},
   "outputs": [],
   "source": [
    "#types of error:\n",
    "#compile time error-syntax error or even indentation error\n",
    "#run time error-\n",
    "#logical error"
   ]
  },
  {
   "cell_type": "code",
   "execution_count": null,
   "id": "8125603f",
   "metadata": {},
   "outputs": [],
   "source": [
    "#exception is a  run time error"
   ]
  },
  {
   "cell_type": "code",
   "execution_count": null,
   "id": "348433f1",
   "metadata": {},
   "outputs": [],
   "source": [
    "#it can be standard error or even warnings\n",
    "#ex:import error,index error,type error,name error etc\n",
    "#ex :for exceptions:depreceation,import warning etc"
   ]
  },
  {
   "cell_type": "code",
   "execution_count": null,
   "id": "2fd7f8db",
   "metadata": {},
   "outputs": [],
   "source": [
    "#exception occurs when there is some problem occurs during execution of code \n",
    "#it may be syntactically correct but due to other reasons like index error,zero division error etc program execution may stop\n",
    "#we can handle execption in python using try and except block"
   ]
  },
  {
   "cell_type": "markdown",
   "id": "bf9e4232",
   "metadata": {},
   "source": [
    "- try block lets us test a block of code for errors\n",
    "- except block handles that exception \n",
    "- finally block runs or executes the code in it regardless of the result of try-except blocks "
   ]
  },
  {
   "cell_type": "code",
   "execution_count": 106,
   "id": "5d8392b2",
   "metadata": {},
   "outputs": [
    {
     "name": "stdout",
     "output_type": "stream",
     "text": [
      "above statement gave exception because aa is not defined\n",
      "i run regardless of the result\n"
     ]
    }
   ],
   "source": [
    "try:\n",
    "    print(aa)\n",
    "except:\n",
    "    print(\"above statement gave exception because aa is not defined\")\n",
    "finally:\n",
    "    print(\"i run regardless of the result\")"
   ]
  },
  {
   "cell_type": "code",
   "execution_count": 107,
   "id": "780cd48b",
   "metadata": {},
   "outputs": [
    {
     "name": "stdout",
     "output_type": "stream",
     "text": [
      "Please define the variable\n"
     ]
    }
   ],
   "source": [
    "#different except blocks for different kinds of exception also can be defined rather than a single one\n",
    "try:\n",
    "    print(aa)\n",
    "except NameError:\n",
    "    print(\"Please define the variable\")\n",
    "except ZeroDivisionError:\n",
    "    print(\"Yuo cant divide by 0\")"
   ]
  },
  {
   "cell_type": "code",
   "execution_count": 108,
   "id": "2a3a6d19",
   "metadata": {},
   "outputs": [
    {
     "ename": "Exception",
     "evalue": " insert value greater than or equal to 0",
     "output_type": "error",
     "traceback": [
      "\u001b[1;31m---------------------------------------------------------------------------\u001b[0m",
      "\u001b[1;31mException\u001b[0m                                 Traceback (most recent call last)",
      "Input \u001b[1;32mIn [108]\u001b[0m, in \u001b[0;36m<cell line: 4>\u001b[1;34m()\u001b[0m\n\u001b[0;32m      3\u001b[0m a\u001b[38;5;241m=\u001b[39m\u001b[38;5;241m-\u001b[39m\u001b[38;5;241m1\u001b[39m\n\u001b[0;32m      4\u001b[0m \u001b[38;5;28;01mif\u001b[39;00m a\u001b[38;5;241m<\u001b[39m\u001b[38;5;241m0\u001b[39m:\n\u001b[1;32m----> 5\u001b[0m     \u001b[38;5;28;01mraise\u001b[39;00m \u001b[38;5;167;01mException\u001b[39;00m(\u001b[38;5;124m\"\u001b[39m\u001b[38;5;124m insert value greater than or equal to 0\u001b[39m\u001b[38;5;124m\"\u001b[39m)\n",
      "\u001b[1;31mException\u001b[0m:  insert value greater than or equal to 0"
     ]
    }
   ],
   "source": [
    "#raise exception:raise keyword\n",
    "#raise keyword is used to raise an exeption by a programmer as user defined\n",
    "a=-1\n",
    "if a<0:\n",
    "    raise Exception(\" insert value greater than or equal to 0\")"
   ]
  },
  {
   "cell_type": "markdown",
   "id": "0c8c4b10",
   "metadata": {},
   "source": [
    "# OOP"
   ]
  },
  {
   "cell_type": "code",
   "execution_count": 3,
   "id": "60dfe731",
   "metadata": {},
   "outputs": [],
   "source": [
    "#class is a blueprint of how an object will behave\n",
    "#class contains properties/attributes and methods. methods are functions that are written inside the class\n",
    "#object is an instance of a class"
   ]
  },
  {
   "cell_type": "code",
   "execution_count": null,
   "id": "c59c3b01",
   "metadata": {},
   "outputs": [],
   "source": [
    "#list is a class\n",
    "#l is an object of the list class\n",
    "l=list()\n",
    "#since these are inbuilt class ,python provides us easy method for defining objects rather than using this\n",
    "#that is called 'object literal'.so we use below way but both are same and internally it uses above method itself\n",
    "l=[1,2,3]"
   ]
  },
  {
   "cell_type": "code",
   "execution_count": 2,
   "id": "9ebc1740",
   "metadata": {},
   "outputs": [],
   "source": [
    "#len(l) :here len is a function\n",
    "#l.append() : here append is a method of class list\n",
    "#this means len() function can be used by anyone\n",
    "#but append() can be used by only objects of the list class"
   ]
  },
  {
   "cell_type": "code",
   "execution_count": 6,
   "id": "5854d55d",
   "metadata": {},
   "outputs": [],
   "source": [
    "#init method is a constructor,which runs whenever an object of that class is defined\n",
    "#in this we write those code which are not called by users and this will handle background or configuration tasks every time an object is created\n",
    "class cl:\n",
    "    def __init__(self):\n",
    "        print(\"demo\")"
   ]
  },
  {
   "cell_type": "code",
   "execution_count": 7,
   "id": "85b02bd4",
   "metadata": {},
   "outputs": [
    {
     "name": "stdout",
     "output_type": "stream",
     "text": [
      "demo\n"
     ]
    }
   ],
   "source": [
    "#obj is the object of the class\n",
    "#tecnically speaking the cl() is the object and obj is the reference variable which just stores the address of the object\n",
    "#but in general we name obj(which is the reference variable) as an object\n",
    "obj=cl()"
   ]
  },
  {
   "cell_type": "code",
   "execution_count": null,
   "id": "464af9a9",
   "metadata": {},
   "outputs": [],
   "source": [
    "#we basically define attributes and call methods here .print(\"demo\") was just an exmample\n",
    "def __init__(self):\n",
    "    self.pin=\"\"\n",
    "    self.balance=0\n",
    "    self.menu()"
   ]
  },
  {
   "cell_type": "code",
   "execution_count": 8,
   "id": "9dbccb8a",
   "metadata": {},
   "outputs": [
    {
     "name": "stdout",
     "output_type": "stream",
     "text": [
      "address of self: 1707717082224\n",
      "address of object obj: 1707717082224\n"
     ]
    }
   ],
   "source": [
    "#self means which object we are working on now\n",
    "class cl:\n",
    "    def __init__(self):\n",
    "        print(\"address of self:\",id(self))\n",
    "obj=cl()\n",
    "print(\"address of object obj:\",id(obj))\n",
    "#we can see here clearly that the object obj and the self are both same \n",
    "#we need to pass self for every methods in class \n",
    "#since one method cant access other methods in that class direclt we need to do that by using self\n",
    "#that means, we can call the method by using object only  which is basically self "
   ]
  },
  {
   "cell_type": "code",
   "execution_count": null,
   "id": "5965095e",
   "metadata": {},
   "outputs": [],
   "source": [
    "## __init__ :these types of methods(with double underscores) are called magic methods/special methods.we cant create like these .\n",
    "#these are predefined in python\n",
    "#we dont manually call these methodsor these are triggered automatically"
   ]
  },
  {
   "cell_type": "code",
   "execution_count": null,
   "id": "2ea7d656",
   "metadata": {},
   "outputs": [],
   "source": [
    "#another example of magic method is __str__()\n",
    "#this runs when ever we print the object"
   ]
  },
  {
   "cell_type": "code",
   "execution_count": null,
   "id": "40e32772",
   "metadata": {},
   "outputs": [],
   "source": [
    "#variables inside __init__ function are called instance variable because they are different for different objects"
   ]
  },
  {
   "cell_type": "code",
   "execution_count": 21,
   "id": "93cf3399",
   "metadata": {},
   "outputs": [],
   "source": [
    "class atm:\n",
    "    def __init__(self):\n",
    "        self.pin=\"\"\n",
    "        self.balance=0\n",
    "        self.menu()\n",
    "    def menu(self):\n",
    "        user_input=input(\"\"\"\n",
    "                    Hello,how would do you like to proceed?\n",
    "                    1. Enter 1 to create a pin\n",
    "                    2. Enter 2 to deposit\n",
    "                    3. Enter 3 to withdraw\n",
    "                    4. Enter 4 to check balance\n",
    "                    5. Enter 5 to exit\n",
    "        \"\"\")\n",
    "        if user_input==\"1\":\n",
    "            self.create_pin()\n",
    "        elif user_input==\"2\":\n",
    "            self.deposit()\n",
    "        elif user_input==\"3\":\n",
    "            self.withdraw()\n",
    "        elif user_input==\"4\":\n",
    "            self.check_balance()\n",
    "        else:\n",
    "            print(\"bye\")\n",
    "    def create_pin(self):\n",
    "        self.pin=input(\"enter the pin\")\n",
    "        print(\"pin set successfully\")\n",
    "    def deposit(self):\n",
    "        temp=input(\"enter your pin:\")\n",
    "        if temp==self.pin:\n",
    "            amount=int(input(\"enter your amount:\"))\n",
    "            self.balance=self.balance+amount\n",
    "            print(\"deposit successful\")\n",
    "        else:\n",
    "            print(\"invalid pin\")\n",
    "    def withdraw(self):\n",
    "        temp=input(\"enter your pin:\")\n",
    "        if temp==self.pin:\n",
    "            amount=int(input(\"enter your amount to withdraw:\"))\n",
    "            if amount<self.balance:\n",
    "                self.balance=self.balance-amount\n",
    "                print(\"withdraw successful\")\n",
    "            else:\n",
    "                print(\"insufficient funds\")\n",
    "        else:\n",
    "            print(\"invalid pin\")\n",
    "    def check_balance(self):\n",
    "        temp=input(\"enter your pin:\")\n",
    "        if temp==self.pin:\n",
    "            print(self.balance)\n",
    "        else:\n",
    "            print(\"invalid pin\")"
   ]
  },
  {
   "cell_type": "code",
   "execution_count": 87,
   "id": "bd8c1257",
   "metadata": {},
   "outputs": [
    {
     "name": "stdout",
     "output_type": "stream",
     "text": [
      "\n",
      "                    Hello,how would do you like to proceed?\n",
      "                    1. Enter 1 to create a pin\n",
      "                    2. Enter 2 to deposit\n",
      "                    3. Enter 3 to withdraw\n",
      "                    4. Enter 4 to check balance\n",
      "                    5. Enter 5 to exit\n",
      "        1\n",
      "enter the pin1234\n",
      "pin set successfully\n"
     ]
    }
   ],
   "source": [
    "sbi=atm()"
   ]
  },
  {
   "cell_type": "code",
   "execution_count": 88,
   "id": "806003fb",
   "metadata": {},
   "outputs": [
    {
     "name": "stdout",
     "output_type": "stream",
     "text": [
      "enter your pin:1234\n",
      "enter your amount:100\n",
      "deposit successful\n"
     ]
    }
   ],
   "source": [
    "sbi.deposit()"
   ]
  },
  {
   "cell_type": "code",
   "execution_count": 89,
   "id": "130752e9",
   "metadata": {},
   "outputs": [
    {
     "name": "stdout",
     "output_type": "stream",
     "text": [
      "enter your pin:1234\n",
      "enter your amount to withdraw:20\n",
      "withdraw successful\n"
     ]
    }
   ],
   "source": [
    "sbi.withdraw()"
   ]
  },
  {
   "cell_type": "code",
   "execution_count": 90,
   "id": "1035e2f4",
   "metadata": {},
   "outputs": [
    {
     "name": "stdout",
     "output_type": "stream",
     "text": [
      "enter your pin:1234\n",
      "80\n"
     ]
    }
   ],
   "source": [
    "sbi.check_balance()"
   ]
  },
  {
   "cell_type": "code",
   "execution_count": 26,
   "id": "70042aa7",
   "metadata": {},
   "outputs": [
    {
     "name": "stdout",
     "output_type": "stream",
     "text": [
      "\n",
      "                    Hello,how would do you like to proceed?\n",
      "                    1. Enter 1 to create a pin\n",
      "                    2. Enter 2 to deposit\n",
      "                    3. Enter 3 to withdraw\n",
      "                    4. Enter 4 to check balance\n",
      "                    5. Enter 5 to exit\n",
      "        1\n",
      "enter the pin1234\n",
      "pin set successfully\n"
     ]
    }
   ],
   "source": [
    "hdfc=atm()"
   ]
  },
  {
   "cell_type": "code",
   "execution_count": 27,
   "id": "d48ea52a",
   "metadata": {},
   "outputs": [
    {
     "name": "stdout",
     "output_type": "stream",
     "text": [
      "enter your pin:1234\n",
      "0\n"
     ]
    }
   ],
   "source": [
    "hdfc.check_balance()"
   ]
  },
  {
   "cell_type": "code",
   "execution_count": 28,
   "id": "888c66d6",
   "metadata": {},
   "outputs": [
    {
     "name": "stdout",
     "output_type": "stream",
     "text": [
      "enter your pin:1234\n",
      "80\n"
     ]
    }
   ],
   "source": [
    "sbi.check_balance()"
   ]
  },
  {
   "cell_type": "markdown",
   "id": "f557c57c",
   "metadata": {},
   "source": [
    "#### making own data type : fraction"
   ]
  },
  {
   "cell_type": "code",
   "execution_count": 78,
   "id": "8c747515",
   "metadata": {},
   "outputs": [],
   "source": [
    "class Fraction:\n",
    "    def __init__(self,num,din):\n",
    "        self.n=num\n",
    "        self.d=din\n",
    "    def __str__(self):                     #this magic method runs when we print object.so we can decide how we print it\n",
    "        return \"{}/{}\".format(self.n,self.d)\n",
    "    def __add__(self,other):          #this runs when we try to add objects. so we can decide how to add them. f i directly try to add then it gives me error\n",
    "        n1=(self.n*other.d)+(other.n*self.d)\n",
    "        d1=self.d*other.d\n",
    "        return \"{}/{}\".format(n1,d1)\n",
    "    def __sub__(self,other):\n",
    "        n1=(self.n*other.d)-(other.n*self.d)\n",
    "        d1=self.d*other.d\n",
    "        return \"{}/{}\".format(n1,d1)\n",
    "    def __mul__(self,other):\n",
    "        n1=self.n*other.n\n",
    "        d1=self.d*other.d\n",
    "        return \"{}/{}\".format(n1,d1) \n",
    "    def __truediv__(self,other):\n",
    "        n1=self.n*other.d\n",
    "        d1=self.d*other.n\n",
    "        return \"{}/{}\".format(n1,d1) "
   ]
  },
  {
   "cell_type": "code",
   "execution_count": 79,
   "id": "3feb3c26",
   "metadata": {},
   "outputs": [],
   "source": [
    "f1=Fraction(3,4)\n",
    "f2=Fraction(1,4)"
   ]
  },
  {
   "cell_type": "code",
   "execution_count": 76,
   "id": "6fe7618a",
   "metadata": {},
   "outputs": [
    {
     "name": "stdout",
     "output_type": "stream",
     "text": [
      "3/4 1/4\n"
     ]
    }
   ],
   "source": [
    "print(f1,f2)"
   ]
  },
  {
   "cell_type": "code",
   "execution_count": 80,
   "id": "b3676a9a",
   "metadata": {},
   "outputs": [
    {
     "data": {
      "text/plain": [
       "('16/16', '8/16', '3/16', '12/4')"
      ]
     },
     "execution_count": 80,
     "metadata": {},
     "output_type": "execute_result"
    }
   ],
   "source": [
    "f1+f2,f1-f2,f1*f2,f1/f2"
   ]
  },
  {
   "cell_type": "markdown",
   "id": "52626fbe",
   "metadata": {},
   "source": [
    "### encapsulation"
   ]
  },
  {
   "cell_type": "code",
   "execution_count": null,
   "id": "df756564",
   "metadata": {},
   "outputs": [],
   "source": [
    "#his prevents data modification accidentally by limiting access to variables and methods."
   ]
  },
  {
   "cell_type": "code",
   "execution_count": null,
   "id": "c66340c1",
   "metadata": {},
   "outputs": [],
   "source": [
    "#Encapsulation is the method of wrapping the data members and the methods into a single unit\n",
    "#encapsulation is achieved through classes,objects,private,get,set\n",
    "#this creates a blackbox where user need not worry about implemenation but can use the methods for his need\n",
    "#"
   ]
  },
  {
   "cell_type": "code",
   "execution_count": 91,
   "id": "2b3939f7",
   "metadata": {},
   "outputs": [
    {
     "name": "stdout",
     "output_type": "stream",
     "text": [
      "enter your pin:1234\n",
      "80\n"
     ]
    }
   ],
   "source": [
    "#from the class atm, we can access all instance variables and methods\n",
    "sbi.check_balance()"
   ]
  },
  {
   "cell_type": "code",
   "execution_count": 92,
   "id": "7749b8ad",
   "metadata": {},
   "outputs": [],
   "source": [
    "sbi.balance=100"
   ]
  },
  {
   "cell_type": "code",
   "execution_count": 93,
   "id": "36e606b7",
   "metadata": {},
   "outputs": [
    {
     "name": "stdout",
     "output_type": "stream",
     "text": [
      "enter your pin:1234\n",
      "100\n"
     ]
    }
   ],
   "source": [
    "sbi.check_balance()"
   ]
  },
  {
   "cell_type": "code",
   "execution_count": 94,
   "id": "d64d0e3c",
   "metadata": {},
   "outputs": [],
   "source": [
    "#we can see that anyone can modify the attribute of the class.\n",
    "#but we cant keep it like this. we need to restrict it\n",
    "#we can use double underscore before the attribute or the method to restrict them"
   ]
  },
  {
   "cell_type": "code",
   "execution_count": 97,
   "id": "c0a387a2",
   "metadata": {},
   "outputs": [],
   "source": [
    "#copying the above function and adding encapsulation on pin ,balance attributes and menu method\n",
    "class atm:\n",
    "    def __init__(self):\n",
    "        self.__pin=\"\"\n",
    "        self.__balance=0\n",
    "        self.__menu()\n",
    "    def __menu(self):\n",
    "        user_input=input(\"\"\"\n",
    "                    Hello,how would do you like to proceed?\n",
    "                    1. Enter 1 to create a pin\n",
    "                    2. Enter 2 to deposit\n",
    "                    3. Enter 3 to withdraw\n",
    "                    4. Enter 4 to check balance\n",
    "                    5. Enter 5 to exit\n",
    "        \"\"\")\n",
    "        if user_input==\"1\":\n",
    "            self.create_pin()\n",
    "        elif user_input==\"2\":\n",
    "            self.deposit()\n",
    "        elif user_input==\"3\":\n",
    "            self.withdraw()\n",
    "        elif user_input==\"4\":\n",
    "            self.check_balance()\n",
    "        else:\n",
    "            print(\"bye\")\n",
    "    def create_pin(self):\n",
    "        self.__pin=input(\"enter the pin\")\n",
    "        print(\"pin set successfully\")\n",
    "    def deposit(self):\n",
    "        temp=input(\"enter your pin:\")\n",
    "        if temp==self.__pin:\n",
    "            amount=int(input(\"enter your amount:\"))\n",
    "            self.__balance=self.__balance+amount\n",
    "            print(\"deposit successful\")\n",
    "        else:\n",
    "            print(\"invalid pin\")\n",
    "    def withdraw(self):\n",
    "        temp=input(\"enter your pin:\")\n",
    "        if temp==self.__pin:\n",
    "            amount=int(input(\"enter your amount to withdraw:\"))\n",
    "            if amount<self.__balance:\n",
    "                self.__balance=self.__balance-amount\n",
    "                print(\"withdraw successful\")\n",
    "            else:\n",
    "                print(\"insufficient funds\")\n",
    "        else:\n",
    "            print(\"invalid pin\")\n",
    "    def check_balance(self):\n",
    "        temp=input(\"enter your pin:\")\n",
    "        if temp==self.__pin:\n",
    "            print(self.__balance)\n",
    "        else:\n",
    "            print(\"invalid pin\")"
   ]
  },
  {
   "cell_type": "code",
   "execution_count": 109,
   "id": "c0fdf1d3",
   "metadata": {},
   "outputs": [
    {
     "name": "stdout",
     "output_type": "stream",
     "text": [
      "\n",
      "                    Hello,how would do you like to proceed?\n",
      "                    1. Enter 1 to create a pin\n",
      "                    2. Enter 2 to deposit\n",
      "                    3. Enter 3 to withdraw\n",
      "                    4. Enter 4 to check balance\n",
      "                    5. Enter 5 to exit\n",
      "        1\n",
      "enter the pin1234\n",
      "pin set successfully\n"
     ]
    }
   ],
   "source": [
    "sbi=atm()"
   ]
  },
  {
   "cell_type": "code",
   "execution_count": 110,
   "id": "aae66792",
   "metadata": {},
   "outputs": [
    {
     "name": "stdout",
     "output_type": "stream",
     "text": [
      "enter your pin:1234\n",
      "enter your amount:100\n",
      "deposit successful\n"
     ]
    }
   ],
   "source": [
    "sbi.deposit()"
   ]
  },
  {
   "cell_type": "code",
   "execution_count": null,
   "id": "fac44c10",
   "metadata": {},
   "outputs": [],
   "source": [
    "#so here we can access only 4 methods and nothing else after restriction"
   ]
  },
  {
   "cell_type": "code",
   "execution_count": 111,
   "id": "77b3d51e",
   "metadata": {},
   "outputs": [
    {
     "data": {
      "text/plain": [
       "100"
      ]
     },
     "execution_count": 111,
     "metadata": {},
     "output_type": "execute_result"
    }
   ],
   "source": [
    "#but the actual thing is nothing in python is actually private\n",
    "#so still we can access that private attributes using this method:\n",
    "sbi._atm__balance\n",
    "#so this means we should understand that __ means they are private and we shouldnt go to change it as a programmer"
   ]
  },
  {
   "cell_type": "code",
   "execution_count": 112,
   "id": "530b11a7",
   "metadata": {},
   "outputs": [],
   "source": [
    "#now lets add get and set methods for the attribute pin for now\n",
    "#copying the above function \n",
    "class atm:\n",
    "    def __init__(self):\n",
    "        self.__pin=\"\"\n",
    "        self.__balance=0\n",
    "        self.__menu()\n",
    "    def get_pin(self):\n",
    "        print(self.__pin)\n",
    "    def set_pin(self,new_pin):\n",
    "        if type(new_pin)==str:\n",
    "            self.__pin=new_pin\n",
    "            print(\"pin changed\")\n",
    "        else:\n",
    "            print(\"not allowed\")\n",
    "    def __menu(self):\n",
    "        user_input=input(\"\"\"\n",
    "                    Hello,how would do you like to proceed?\n",
    "                    1. Enter 1 to create a pin\n",
    "                    2. Enter 2 to deposit\n",
    "                    3. Enter 3 to withdraw\n",
    "                    4. Enter 4 to check balance\n",
    "                    5. Enter 5 to exit\n",
    "        \"\"\")\n",
    "        if user_input==\"1\":\n",
    "            self.create_pin()\n",
    "        elif user_input==\"2\":\n",
    "            self.deposit()\n",
    "        elif user_input==\"3\":\n",
    "            self.withdraw()\n",
    "        elif user_input==\"4\":\n",
    "            self.check_balance()\n",
    "        else:\n",
    "            print(\"bye\")\n",
    "    def create_pin(self):\n",
    "        self.__pin=input(\"enter the pin\")\n",
    "        print(\"pin set successfully\")\n",
    "    def deposit(self):\n",
    "        temp=input(\"enter your pin:\")\n",
    "        if temp==self.__pin:\n",
    "            amount=int(input(\"enter your amount:\"))\n",
    "            self.__balance=self.__balance+amount\n",
    "            print(\"deposit successful\")\n",
    "        else:\n",
    "            print(\"invalid pin\")\n",
    "    def withdraw(self):\n",
    "        temp=input(\"enter your pin:\")\n",
    "        if temp==self.__pin:\n",
    "            amount=int(input(\"enter your amount to withdraw:\"))\n",
    "            if amount<self.__balance:\n",
    "                self.__balance=self.__balance-amount\n",
    "                print(\"withdraw successful\")\n",
    "            else:\n",
    "                print(\"insufficient funds\")\n",
    "        else:\n",
    "            print(\"invalid pin\")\n",
    "    def check_balance(self):\n",
    "        temp=input(\"enter your pin:\")\n",
    "        if temp==self.__pin:\n",
    "            print(self.__balance)\n",
    "        else:\n",
    "            print(\"invalid pin\")"
   ]
  },
  {
   "cell_type": "code",
   "execution_count": 118,
   "id": "2b0c0f90",
   "metadata": {},
   "outputs": [
    {
     "name": "stdout",
     "output_type": "stream",
     "text": [
      "\n",
      "                    Hello,how would do you like to proceed?\n",
      "                    1. Enter 1 to create a pin\n",
      "                    2. Enter 2 to deposit\n",
      "                    3. Enter 3 to withdraw\n",
      "                    4. Enter 4 to check balance\n",
      "                    5. Enter 5 to exit\n",
      "        1\n",
      "enter the pin1234\n",
      "pin set successfully\n"
     ]
    }
   ],
   "source": [
    "sbi=atm()"
   ]
  },
  {
   "cell_type": "code",
   "execution_count": 119,
   "id": "ec0512e7",
   "metadata": {},
   "outputs": [
    {
     "name": "stdout",
     "output_type": "stream",
     "text": [
      "pin changed\n"
     ]
    }
   ],
   "source": [
    "sbi.set_pin(\"9090\")"
   ]
  },
  {
   "cell_type": "code",
   "execution_count": 120,
   "id": "ac618587",
   "metadata": {},
   "outputs": [
    {
     "name": "stdout",
     "output_type": "stream",
     "text": [
      "9090\n"
     ]
    }
   ],
   "source": [
    "sbi.get_pin()"
   ]
  },
  {
   "cell_type": "code",
   "execution_count": null,
   "id": "86b741b6",
   "metadata": {},
   "outputs": [],
   "source": [
    "#class objects are also mutable like lists \n",
    "#this means if i change attributes of object it is changed in same memory itself"
   ]
  },
  {
   "cell_type": "code",
   "execution_count": null,
   "id": "2812f5a6",
   "metadata": {},
   "outputs": [],
   "source": [
    "#lists/sets/dictionaries/objects all are mutable\n",
    "#strings/tuples are immutable\n",
    "#that means if u pass any mutable types into functions and update that it will be changed outer also \n",
    "#this is passing by reference ,we pass the reference of the object and any changes will be updated in memory itself"
   ]
  },
  {
   "cell_type": "code",
   "execution_count": null,
   "id": "ea51abd1",
   "metadata": {},
   "outputs": [],
   "source": [
    "#we can also use objects as iterable items i.e. collection of objects\n",
    "#for i in [obj1,obj2,obj3]: like this"
   ]
  },
  {
   "cell_type": "code",
   "execution_count": 24,
   "id": "c3942847",
   "metadata": {},
   "outputs": [
    {
     "data": {
      "text/plain": [
       "(1, 2, 3, 4)"
      ]
     },
     "execution_count": 24,
     "metadata": {},
     "output_type": "execute_result"
    }
   ],
   "source": [
    "#instance variables :these variables are different for different objects ,means they are the properties of objects\n",
    "#in atm we have pin and balance :these are different for sbi ,hdfc objects. so these are instance variables\n",
    "#these are defined inside the constructor\n",
    "\n",
    "#now lets discuss static/class variables:\n",
    "#these have same values for all objects(these are shared variables)\n",
    "#these are defined outside the constructor\n",
    "\n",
    "class cl:\n",
    "    counter=1                  #static or class variable\n",
    "    def __init__(self,name):\n",
    "        self.name=name\n",
    "        self.id=cl.counter\n",
    "        cl.counter+=1\n",
    "obj1=cl(\"a\")\n",
    "obj2=cl(\"b\")\n",
    "obj3=cl(\"c\")\n",
    "obj1.id,obj2.id,obj3.id,cl.counter"
   ]
  },
  {
   "cell_type": "code",
   "execution_count": 34,
   "id": "0da8d423",
   "metadata": {},
   "outputs": [],
   "source": [
    "#static methods are those that deals with static variables,it doesnt require self to be passed if its not dealing with object\n",
    "#lets see how to do this and also lets make class variable private and make set and get methods for accessing\n",
    "class cl:\n",
    "    __counter=1                  #static or class variable\n",
    "    def __init__(self,name):\n",
    "        self.name=name\n",
    "        self.id=cl.__counter\n",
    "        cl.__counter+=1\n",
    "        \n",
    "    @staticmethod\n",
    "    def get_counter():\n",
    "        return cl.__counter\n",
    "    @staticmethod\n",
    "    def set_counter(new):\n",
    "        if type(new)==int:\n",
    "            cl.__counter=new\n",
    "        else:\n",
    "            print(\"invalid\")"
   ]
  },
  {
   "cell_type": "code",
   "execution_count": 36,
   "id": "001fa1e5",
   "metadata": {},
   "outputs": [
    {
     "data": {
      "text/plain": [
       "5"
      ]
     },
     "execution_count": 36,
     "metadata": {},
     "output_type": "execute_result"
    }
   ],
   "source": [
    "obj=cl(\"a\")\n",
    "obj.set_counter(5)\n",
    "obj.get_counter()"
   ]
  },
  {
   "cell_type": "markdown",
   "id": "e3aec2e8",
   "metadata": {},
   "source": [
    "### Class Relationships:aggregation and inheritance"
   ]
  },
  {
   "cell_type": "code",
   "execution_count": null,
   "id": "823ca467",
   "metadata": {},
   "outputs": [],
   "source": [
    "#aggregation means classes have [has-a] relationship\n",
    "#ex:Customer class and Address class:customer has a address\n",
    "#i can create a object of the address class and pass it to customer in address field\n",
    "#adr=Address(\"kpur\",\"576219\")\n",
    "#cust=Customer(\"akshay\",adr)\n",
    "#if i have change_adress method in Address:\n",
    "#i can call it in Customer by self.adr.change_adress()"
   ]
  },
  {
   "cell_type": "code",
   "execution_count": null,
   "id": "7d196a76",
   "metadata": {},
   "outputs": [],
   "source": [
    "#inheritance means classes have [is-a] relationship\n",
    "#ex:products and mobile classes:mobile is a product\n",
    "#this provides code reusability\n",
    "#data members,methods,constructors can be inherited by child class\n",
    "#private members are not inherited"
   ]
  },
  {
   "cell_type": "code",
   "execution_count": 54,
   "id": "fcfd5072",
   "metadata": {},
   "outputs": [],
   "source": [
    "class products:\n",
    "    def __init__(self,pid):\n",
    "        self.pid=pid\n",
    "    def hello(self):\n",
    "        print(\"hello hai\")\n",
    "    def __pr(self):\n",
    "        print(\"u cant access me\")\n",
    "    def buy(self):\n",
    "        print(\"i will be printed if no method overriding\")\n",
    "class mobile(products):                #mobile is a child class of products\n",
    "    def bye(self):\n",
    "        print(self.pid)               #calling parent data members inside the child class\n",
    "        print(\"tata\")\n",
    "    def buy(self):                     #method overriding\n",
    "        print(\"i am overriding the parent method\")\n",
    "obj=mobile(10)"
   ]
  },
  {
   "cell_type": "code",
   "execution_count": 55,
   "id": "6f42943a",
   "metadata": {},
   "outputs": [
    {
     "name": "stdout",
     "output_type": "stream",
     "text": [
      "hello hai\n",
      "10\n",
      "tata\n",
      "10\n"
     ]
    }
   ],
   "source": [
    "#here we can see that i can access data members ,constructors,methods from parent class using object of child\n",
    "#we cant access pr method since that is private\n",
    "obj.hello(),obj.bye()\n",
    "print(obj.pid)"
   ]
  },
  {
   "cell_type": "code",
   "execution_count": 53,
   "id": "81f3a0e3",
   "metadata": {},
   "outputs": [
    {
     "name": "stdout",
     "output_type": "stream",
     "text": [
      "i am overriding the parent method\n"
     ]
    }
   ],
   "source": [
    "#if child class has method of same name ,if i call that method on the object of the child class, then its method will\n",
    "#only run obviously.this is called method over riding\n",
    "#where parents method was over ridden by the child class\n",
    "#even if child has its own constructor,it will be called and not the constructor of parent\n",
    "obj.buy()"
   ]
  },
  {
   "cell_type": "markdown",
   "id": "811baf4c",
   "metadata": {},
   "source": [
    "#### super keywork"
   ]
  },
  {
   "cell_type": "code",
   "execution_count": 56,
   "id": "33ff82b1",
   "metadata": {},
   "outputs": [],
   "source": [
    "#super() is used to call methods and constructors of parent in child class\n",
    "#we cant call data members using this\n",
    "\n",
    "#basically used when both classes have same method names and u want to call parent method in the method of the child with same name\n",
    "#and also for calling parent constructors inside child constructor"
   ]
  },
  {
   "cell_type": "code",
   "execution_count": 57,
   "id": "a27ae183",
   "metadata": {},
   "outputs": [],
   "source": [
    "class parent:\n",
    "    def __init__(self,pid):\n",
    "        self.pid=pid\n",
    "    def hello(self):\n",
    "        print(\"hello from parent\")\n",
    "class child(parent):\n",
    "    def __init__(self,pid):\n",
    "        super().__init__(pid)           #calling parent constructor for initialization\n",
    "    def hello(self):\n",
    "        super().hello()                   #using super().hello() calls hello of parent class .\n",
    "        print(\"hello from child\")\n",
    "c=child(10)        "
   ]
  },
  {
   "cell_type": "code",
   "execution_count": 59,
   "id": "73796e88",
   "metadata": {},
   "outputs": [
    {
     "name": "stdout",
     "output_type": "stream",
     "text": [
      "hello from parent\n",
      "hello from child\n"
     ]
    }
   ],
   "source": [
    "c.hello()"
   ]
  },
  {
   "cell_type": "code",
   "execution_count": 60,
   "id": "a8890252",
   "metadata": {},
   "outputs": [
    {
     "data": {
      "text/plain": [
       "10"
      ]
     },
     "execution_count": 60,
     "metadata": {},
     "output_type": "execute_result"
    }
   ],
   "source": [
    "c.pid"
   ]
  },
  {
   "cell_type": "code",
   "execution_count": 61,
   "id": "95d9e4d6",
   "metadata": {},
   "outputs": [],
   "source": [
    "#here we can see method names are different . so we can directly call the parent method using self keyword\n",
    "#but in above we had same name. so we need to use super()\n",
    "class parent:\n",
    "    def hello(self):\n",
    "        print(\"hello from parent\")\n",
    "class child(parent):         \n",
    "    def h(self):\n",
    "        self.hello()                   \n",
    "        print(\"hello from child\")\n",
    "c=child(10)   "
   ]
  },
  {
   "cell_type": "code",
   "execution_count": 62,
   "id": "4c514bee",
   "metadata": {},
   "outputs": [
    {
     "name": "stdout",
     "output_type": "stream",
     "text": [
      "hello from parent\n",
      "hello from child\n"
     ]
    }
   ],
   "source": [
    "c.h()"
   ]
  },
  {
   "cell_type": "markdown",
   "id": "51c2edf1",
   "metadata": {},
   "source": [
    "types of inheritance:\n",
    "- single level : parent-->child\n",
    "- multi level : grandparent-->parent-->child \n",
    "- multiple inheritance :   father,mother-->child\n",
    "- hierarchical inheritance   :parent-->child1,child2"
   ]
  },
  {
   "cell_type": "code",
   "execution_count": null,
   "id": "275080d3",
   "metadata": {},
   "outputs": [],
   "source": [
    "#we can write multiple inheritance i.e a class is inherited from more than one class as:\n",
    "\n",
    "#class child(dad,mom):\n",
    "\n",
    "#first preference for the class that is provide first i.e. dad in this case\n",
    "#that means if i am trying to call method which is present in both dad and mom,dad's method is called bcz it has high priority\n",
    "#same with constructors also(dad's constructor has high priority)"
   ]
  },
  {
   "cell_type": "markdown",
   "id": "ae63ce6f",
   "metadata": {},
   "source": [
    "### Polymorphism"
   ]
  },
  {
   "cell_type": "code",
   "execution_count": 63,
   "id": "179d4709",
   "metadata": {},
   "outputs": [],
   "source": [
    "#polymorphism means having many forms or ability of entities(methods,operators) to take many forms"
   ]
  },
  {
   "cell_type": "code",
   "execution_count": 76,
   "id": "890a0dca",
   "metadata": {},
   "outputs": [],
   "source": [
    "#there can be types of polymorphism\n",
    "\n",
    "#1. method overriding:child method  over rides the parent method having same name when called by object of the child\n",
    "\n",
    "#2.operator overloading:an operator behaves differently at different instances\n",
    "#for ex: + operator adds if two numbers are given.\n",
    "#but it concatinates in case of  strings\n",
    "#2+3,\"a\"+\"b\". here + if behaving differently in these two cases\n",
    "#and we also saw while making fraction class how to use magic methods for doing this\n",
    "#this is basically operator overloading\n",
    "\n",
    "#3.method overloading:this means method having many forms\n",
    "#that means based on number of arguements given to that method, method behaves differently\n",
    "#if i provide one parameter r to AREA method, it calculates area of circle\n",
    "#but if i pass two parameters l and b, it calculates area of rectangle\n",
    "#so here method behaves differently based on no of arguements\n",
    "#in python u cant achieve this using two methods with same name but with different arguements.it wont work\n",
    "#that means tecnically method overloading doesnt exists in python:bcz 2nd method will overrides the first method\n",
    "#but we can do this like this:\n",
    "class mycl:\n",
    "    def area(self,n,m=0):\n",
    "        if m==0:\n",
    "            print(\"area of circle:\",3.14*n*n)\n",
    "        else:\n",
    "            print(\"area of rectangle:\",n*m)"
   ]
  },
  {
   "cell_type": "code",
   "execution_count": 77,
   "id": "f4f776bf",
   "metadata": {},
   "outputs": [],
   "source": [
    "a=mycl()"
   ]
  },
  {
   "cell_type": "code",
   "execution_count": 78,
   "id": "340c4bdb",
   "metadata": {},
   "outputs": [
    {
     "name": "stdout",
     "output_type": "stream",
     "text": [
      "area of rectangle: 6\n"
     ]
    }
   ],
   "source": [
    "a.area(2,3)"
   ]
  },
  {
   "cell_type": "code",
   "execution_count": 79,
   "id": "307fa91b",
   "metadata": {},
   "outputs": [
    {
     "name": "stdout",
     "output_type": "stream",
     "text": [
      "area of circle: 12.56\n"
     ]
    }
   ],
   "source": [
    "a.area(2)"
   ]
  },
  {
   "cell_type": "markdown",
   "id": "7c89b3e2",
   "metadata": {},
   "source": [
    "### Abstraction"
   ]
  },
  {
   "cell_type": "code",
   "execution_count": null,
   "id": "b87baa2f",
   "metadata": {},
   "outputs": [],
   "source": [
    "#abstraction means hiding implementation details and showing necessary information to user\n",
    "#we can achieve abstraction using\n",
    "#1.encapsulation\n",
    "#2. inheritance\n",
    "#3.abstract class"
   ]
  },
  {
   "cell_type": "code",
   "execution_count": null,
   "id": "70498e40",
   "metadata": {},
   "outputs": [],
   "source": [
    "#abstraction through abstract classes and interfaces, achieves abstraction by providing a way to define a contract or a set\n",
    "#of guidelines for a class to follow without providing an implementation for certain methods.\n",
    "#This allows you to create a blueprint for a class, without committing to a specific implementation."
   ]
  },
  {
   "cell_type": "code",
   "execution_count": null,
   "id": "7bcdfd1f",
   "metadata": {},
   "outputs": [],
   "source": [
    "#For example, you can define an abstract class Shape with an abstract method calculate_area(). \n",
    "#Any class that wants to be a Shape must implement this method, but the implementation can be different for each class, \n",
    "#Rectangle might use width and height to calculate the area while Circle might use radius."
   ]
  },
  {
   "cell_type": "code",
   "execution_count": null,
   "id": "0f983570",
   "metadata": {},
   "outputs": [],
   "source": [
    "#in python there is no direct abstract class/methods\n",
    "#so we need to import the abc module\n",
    "#an abstract class is a class that contain a abstract method\n",
    "#we cant have objects of abstract class\n",
    "#An abstract class is a class that cannot be instantiated, but can be subclassed\n",
    "#abstract method is a method which has no implementation\n",
    "#child classes of abstract classes need to have implemenation of those methods which are abstract in parent\n"
   ]
  },
  {
   "cell_type": "markdown",
   "id": "d932eabc",
   "metadata": {},
   "source": [
    "# Deep copy vs shallow copy"
   ]
  },
  {
   "cell_type": "code",
   "execution_count": 1,
   "id": "b9d02361",
   "metadata": {},
   "outputs": [
    {
     "data": {
      "text/plain": [
       "([1, 2, 3, 4], [1, 2, 3, 4])"
      ]
     },
     "execution_count": 1,
     "metadata": {},
     "output_type": "execute_result"
    }
   ],
   "source": [
    "l=[1,2,3,4]\n",
    "l2=l.copy()\n",
    "l,l2"
   ]
  },
  {
   "cell_type": "code",
   "execution_count": 3,
   "id": "d528ca29",
   "metadata": {},
   "outputs": [
    {
     "data": {
      "text/plain": [
       "([1, 2, 3, 4, 5, 5], [1, 2, 3, 4])"
      ]
     },
     "execution_count": 3,
     "metadata": {},
     "output_type": "execute_result"
    }
   ],
   "source": [
    "l2.append(5)\n",
    "l2,l"
   ]
  },
  {
   "cell_type": "code",
   "execution_count": 26,
   "id": "ec488024",
   "metadata": {},
   "outputs": [
    {
     "data": {
      "text/plain": [
       "[[1, 2], [3, 4]]"
      ]
     },
     "execution_count": 26,
     "metadata": {},
     "output_type": "execute_result"
    }
   ],
   "source": [
    "#shallow copy\n",
    "l=[[1,2],[3,4]]\n",
    "l2=l.copy()\n",
    "l2"
   ]
  },
  {
   "cell_type": "code",
   "execution_count": 27,
   "id": "2c45e784",
   "metadata": {},
   "outputs": [],
   "source": [
    "l2[0][0]=99"
   ]
  },
  {
   "cell_type": "code",
   "execution_count": 28,
   "id": "55e107c4",
   "metadata": {},
   "outputs": [
    {
     "data": {
      "text/plain": [
       "[[99, 2], [3, 4]]"
      ]
     },
     "execution_count": 28,
     "metadata": {},
     "output_type": "execute_result"
    }
   ],
   "source": [
    "l2"
   ]
  },
  {
   "cell_type": "code",
   "execution_count": 29,
   "id": "6cd47660",
   "metadata": {},
   "outputs": [
    {
     "data": {
      "text/plain": [
       "[[99, 2], [3, 4]]"
      ]
     },
     "execution_count": 29,
     "metadata": {},
     "output_type": "execute_result"
    }
   ],
   "source": [
    "l"
   ]
  },
  {
   "cell_type": "code",
   "execution_count": null,
   "id": "68326905",
   "metadata": {},
   "outputs": [],
   "source": [
    "#here we can see original also got changed even though we have used copy method\n",
    "#this is called shallow copy"
   ]
  },
  {
   "cell_type": "code",
   "execution_count": null,
   "id": "0c13fcb0",
   "metadata": {},
   "outputs": [],
   "source": [
    "#Therefore, a shallow copy is suitable only when we don’t have to deal with compound objects."
   ]
  },
  {
   "cell_type": "code",
   "execution_count": null,
   "id": "2baa5314",
   "metadata": {},
   "outputs": [],
   "source": [
    "#Deep copy:"
   ]
  },
  {
   "cell_type": "code",
   "execution_count": null,
   "id": "58a13251",
   "metadata": {},
   "outputs": [],
   "source": [
    "#but A deep copy will take a copy of the original object and will\n",
    "#then recursively take copy of the inner objects which are found (if any)."
   ]
  },
  {
   "cell_type": "code",
   "execution_count": 32,
   "id": "e12015cf",
   "metadata": {},
   "outputs": [],
   "source": [
    "#deep copy\n",
    "import copy\n",
    "a = [[1, 2, 3], [4, 5, 6]]\n",
    "b = copy.deepcopy(a)"
   ]
  },
  {
   "cell_type": "code",
   "execution_count": 33,
   "id": "f1037fe5",
   "metadata": {},
   "outputs": [
    {
     "data": {
      "text/plain": [
       "[[1, 2, 3], [4, 5, 6]]"
      ]
     },
     "execution_count": 33,
     "metadata": {},
     "output_type": "execute_result"
    }
   ],
   "source": [
    "b"
   ]
  },
  {
   "cell_type": "code",
   "execution_count": 34,
   "id": "1bdb846d",
   "metadata": {},
   "outputs": [],
   "source": [
    "b[0][0]=99"
   ]
  },
  {
   "cell_type": "code",
   "execution_count": 35,
   "id": "f7948fe4",
   "metadata": {},
   "outputs": [
    {
     "data": {
      "text/plain": [
       "[[99, 2, 3], [4, 5, 6]]"
      ]
     },
     "execution_count": 35,
     "metadata": {},
     "output_type": "execute_result"
    }
   ],
   "source": [
    "b"
   ]
  },
  {
   "cell_type": "code",
   "execution_count": 36,
   "id": "c8480d0f",
   "metadata": {},
   "outputs": [
    {
     "data": {
      "text/plain": [
       "[[1, 2, 3], [4, 5, 6]]"
      ]
     },
     "execution_count": 36,
     "metadata": {},
     "output_type": "execute_result"
    }
   ],
   "source": [
    "a"
   ]
  },
  {
   "cell_type": "code",
   "execution_count": null,
   "id": "0830e2a2",
   "metadata": {},
   "outputs": [],
   "source": [
    "#here we can see that the original list is not changed since we have used deep copy"
   ]
  },
  {
   "cell_type": "code",
   "execution_count": null,
   "id": "13b18880",
   "metadata": {},
   "outputs": [],
   "source": [
    "#a shallow copy will create a new object out of the original however \n",
    "#if the object contains other objects then the inner objects won’t be copied but instead,\n",
    "#the same reference will be used as the ones of the original structure. \n",
    "#On the other hand, a deep copy will create a new object even for the inner objects contained in a compound object."
   ]
  },
  {
   "cell_type": "markdown",
   "id": "2ebfdb05",
   "metadata": {},
   "source": [
    "### File handling"
   ]
  },
  {
   "cell_type": "code",
   "execution_count": 35,
   "id": "8e389387",
   "metadata": {},
   "outputs": [],
   "source": [
    "#we have read r, write w , append a, write and read , create x"
   ]
  },
  {
   "cell_type": "code",
   "execution_count": 36,
   "id": "0e45582b",
   "metadata": {},
   "outputs": [],
   "source": [
    "#creating a file and writing to it\n",
    "f=open(\"myfile.txt\",\"w\")           \n",
    "f.write(\"hello how are you\")\n",
    "f.close()"
   ]
  },
  {
   "cell_type": "code",
   "execution_count": 37,
   "id": "b7a259d3",
   "metadata": {},
   "outputs": [],
   "source": [
    "#this type of syntax is not preferred since we need to close the file everytime we open them.\n",
    "#so we prefer the below syntax "
   ]
  },
  {
   "cell_type": "code",
   "execution_count": 38,
   "id": "45ea2632",
   "metadata": {},
   "outputs": [],
   "source": [
    "with open(\"myfile.txt\",\"w\") as f:\n",
    "    f.write(\"hello how are you \")"
   ]
  },
  {
   "cell_type": "code",
   "execution_count": 39,
   "id": "077d14b4",
   "metadata": {},
   "outputs": [],
   "source": [
    "#if the file already exists then \"w\" i.e. write method overwrites that. \n",
    "#if you want to add something new to that file use append \"a\""
   ]
  },
  {
   "cell_type": "code",
   "execution_count": 40,
   "id": "8efb8336",
   "metadata": {},
   "outputs": [],
   "source": [
    "with open(\"myfile.txt\",\"a\") as f:\n",
    "    f.write(\"cool\")"
   ]
  },
  {
   "cell_type": "code",
   "execution_count": 44,
   "id": "37255c58",
   "metadata": {},
   "outputs": [
    {
     "ename": "FileExistsError",
     "evalue": "[Errno 17] File exists: 'myfile.txt'",
     "output_type": "error",
     "traceback": [
      "\u001b[1;31m---------------------------------------------------------------------------\u001b[0m",
      "\u001b[1;31mFileExistsError\u001b[0m                           Traceback (most recent call last)",
      "Input \u001b[1;32mIn [44]\u001b[0m, in \u001b[0;36m<cell line: 2>\u001b[1;34m()\u001b[0m\n\u001b[0;32m      1\u001b[0m \u001b[38;5;66;03m#creating a new file :if file exists then it give error\u001b[39;00m\n\u001b[1;32m----> 2\u001b[0m \u001b[38;5;28;01mwith\u001b[39;00m \u001b[38;5;28;43mopen\u001b[39;49m\u001b[43m(\u001b[49m\u001b[38;5;124;43m\"\u001b[39;49m\u001b[38;5;124;43mmyfile.txt\u001b[39;49m\u001b[38;5;124;43m\"\u001b[39;49m\u001b[43m,\u001b[49m\u001b[38;5;124;43m\"\u001b[39;49m\u001b[38;5;124;43mx\u001b[39;49m\u001b[38;5;124;43m\"\u001b[39;49m\u001b[43m)\u001b[49m \u001b[38;5;28;01mas\u001b[39;00m f:\n\u001b[0;32m      3\u001b[0m     z\u001b[38;5;241m=\u001b[39mf\u001b[38;5;241m.\u001b[39mread()\n",
      "\u001b[1;31mFileExistsError\u001b[0m: [Errno 17] File exists: 'myfile.txt'"
     ]
    }
   ],
   "source": [
    "#creating a new file :if file exists then it give error else it creates the file\n",
    "with open(\"myfile.txt\",\"x\") as f:\n",
    "    f.write(\"hai\")"
   ]
  },
  {
   "cell_type": "code",
   "execution_count": 41,
   "id": "10876d93",
   "metadata": {},
   "outputs": [],
   "source": [
    "#to read a file with read mode\n",
    "with open(\"myfile.txt\",\"r\") as f:\n",
    "    file=f.read()"
   ]
  },
  {
   "cell_type": "code",
   "execution_count": 42,
   "id": "0563114b",
   "metadata": {},
   "outputs": [
    {
     "data": {
      "text/plain": [
       "'hello how are you cool'"
      ]
     },
     "execution_count": 42,
     "metadata": {},
     "output_type": "execute_result"
    }
   ],
   "source": [
    "file"
   ]
  },
  {
   "cell_type": "code",
   "execution_count": 43,
   "id": "39b0f20c",
   "metadata": {},
   "outputs": [
    {
     "data": {
      "text/plain": [
       "'hello how '"
      ]
     },
     "execution_count": 43,
     "metadata": {},
     "output_type": "execute_result"
    }
   ],
   "source": [
    "#to read only some \n",
    "with open(\"myfile.txt\",\"r\") as f:\n",
    "    file=f.read(10)\n",
    "file"
   ]
  },
  {
   "cell_type": "code",
   "execution_count": null,
   "id": "2b6fe199",
   "metadata": {},
   "outputs": [],
   "source": [
    "#reading multi line files"
   ]
  },
  {
   "cell_type": "code",
   "execution_count": 52,
   "id": "1c364147",
   "metadata": {},
   "outputs": [],
   "source": [
    "with open(\"filename.txt\", \"w\") as f:\n",
    "    f.write(\"First line of text\\n\")\n",
    "    f.write(\"Second line of text\\n\")\n",
    "    f.write(\"Third line of text\\n\")"
   ]
  },
  {
   "cell_type": "code",
   "execution_count": 53,
   "id": "daa2b1e5",
   "metadata": {},
   "outputs": [
    {
     "data": {
      "text/plain": [
       "'First line of text\\nSecond line of text\\nThird line of text\\n'"
      ]
     },
     "execution_count": 53,
     "metadata": {},
     "output_type": "execute_result"
    }
   ],
   "source": [
    "with open(\"filename.txt\",\"r\") as f:\n",
    "    file=f.read()\n",
    "file"
   ]
  },
  {
   "cell_type": "code",
   "execution_count": 54,
   "id": "4ab15b60",
   "metadata": {},
   "outputs": [
    {
     "data": {
      "text/plain": [
       "['First line of text\\n', 'Second line of text\\n', 'Third line of text\\n']"
      ]
     },
     "execution_count": 54,
     "metadata": {},
     "output_type": "execute_result"
    }
   ],
   "source": [
    "with open(\"filename.txt\",\"r\") as f:\n",
    "    file=f.readlines()\n",
    "file"
   ]
  },
  {
   "cell_type": "code",
   "execution_count": 62,
   "id": "701df768",
   "metadata": {},
   "outputs": [
    {
     "name": "stdout",
     "output_type": "stream",
     "text": [
      "First line of text\n",
      "Second line of text\n",
      "Third line of text\n"
     ]
    }
   ],
   "source": [
    "with open(\"filename.txt\",\"r\") as f:\n",
    "    for i in f:\n",
    "        print(i,end=\"\")"
   ]
  },
  {
   "cell_type": "code",
   "execution_count": 59,
   "id": "526dce74",
   "metadata": {},
   "outputs": [
    {
     "name": "stdout",
     "output_type": "stream",
     "text": [
      "First line of text\n",
      "\n"
     ]
    }
   ],
   "source": [
    "with open(\"filename.txt\",\"r\") as f:\n",
    "    print(f.readline())"
   ]
  },
  {
   "cell_type": "code",
   "execution_count": 64,
   "id": "0ad4b09a",
   "metadata": {},
   "outputs": [
    {
     "name": "stdout",
     "output_type": "stream",
     "text": [
      "Hello, world!\n"
     ]
    }
   ],
   "source": [
    "#to open a file to write and then read\n",
    "with open(\"myfile.txt\", \"w+\") as f:\n",
    "    # Write to the file\n",
    "    f.write(\"Hello, world!\")\n",
    "\n",
    "    # Move the file pointer back to the beginning of the file\n",
    "    f.seek(0)\n",
    "\n",
    "    # Read the contents of the file\n",
    "    contents = f.read()\n",
    "\n",
    "    # Print the contents to the console\n",
    "    print(contents)\n"
   ]
  },
  {
   "cell_type": "markdown",
   "id": "05f95d6e",
   "metadata": {},
   "source": [
    "### Generators in python"
   ]
  },
  {
   "cell_type": "code",
   "execution_count": 65,
   "id": "d973cc1d",
   "metadata": {},
   "outputs": [
    {
     "name": "stdout",
     "output_type": "stream",
     "text": [
      "1\n",
      "2\n",
      "3\n"
     ]
    }
   ],
   "source": [
    "# A Simple Python program to demonstrate working of yield\n",
    "# A generator function that yields 1 for the first time, 2 second time and 3 third time\n",
    "\n",
    "\n",
    "def simpleGeneratorFun():\n",
    "    yield 1\n",
    "    yield 2\n",
    "    yield 3\n",
    "\n",
    "\n",
    "# Driver code to check above generator function\n",
    "for value in simpleGeneratorFun():\n",
    "    print(value)\n"
   ]
  },
  {
   "cell_type": "code",
   "execution_count": 71,
   "id": "5bfb283d",
   "metadata": {},
   "outputs": [
    {
     "name": "stdout",
     "output_type": "stream",
     "text": [
      "1\n",
      "4\n",
      "9\n",
      "16\n",
      "25\n",
      "36\n",
      "49\n",
      "64\n",
      "81\n",
      "100\n"
     ]
    }
   ],
   "source": [
    "# A Python program to generate squares from 1 to 100 using yield and therefore generator\n",
    "\n",
    "# An infinite generator function that prints next square number. It starts with 1\n",
    "\n",
    "\n",
    "def nextSquare():\n",
    "    i = 1\n",
    "    # An Infinite loop to generate squares\n",
    "    while True:\n",
    "        yield i*i\n",
    "        i += 1 # Next execution resumes from this point\n",
    "\n",
    "\n",
    "# Driver code to test above generator function\n",
    "for num in nextSquare():\n",
    "    if num > 100:\n",
    "        break\n",
    "    print(num)"
   ]
  },
  {
   "cell_type": "code",
   "execution_count": 73,
   "id": "5b285739",
   "metadata": {},
   "outputs": [
    {
     "name": "stdout",
     "output_type": "stream",
     "text": [
      "Total sum: 82\n"
     ]
    }
   ],
   "source": [
    "def partial_sum(filename, chunk_size):\n",
    "    with open(filename) as f:\n",
    "        total = 0\n",
    "        for line in f:\n",
    "            # convert line to integer and add to total\n",
    "            total += int(line.strip())\n",
    "            if total > chunk_size:\n",
    "                # if total exceeds chunk size, yield the partial sum\n",
    "                yield total\n",
    "                total = 0\n",
    "        # yield final partial sum\n",
    "        if total > 0:\n",
    "            yield total\n",
    "\n",
    "# compute sum of all numbers in file\n",
    "filename = 'gen.txt'\n",
    "chunk_size = 2\n",
    "total_sum = 0\n",
    "for partial in partial_sum(filename, chunk_size):\n",
    "    total_sum += partial\n",
    "\n",
    "print(\"Total sum:\", total_sum)\n"
   ]
  },
  {
   "cell_type": "markdown",
   "id": "281db9fb",
   "metadata": {},
   "source": [
    "In Python, yield is a keyword that is used to define a generator function.\n",
    "A generator function is a special type of function that allows you to iterate over a sequence of values,\n",
    "without having to generate the entire sequence upfront.\n",
    "Instead, the values are generated on the fly, as they are needed.\n",
    "\n",
    "When a generator function encounters a yield statement, \n",
    "it temporarily suspends its execution and returns the yielded value to the caller.\n",
    "The state of the function is saved, so that when the function is called again, \n",
    "it resumes from where it left off, rather than starting over from the beginning.\n",
    "\n",
    "A generator-function is defined like a normal function, but whenever it needs to generate a value, it does so with the yield keyword rather than return. If the body of a def contains yield, the function automatically becomes a generator function. \n",
    "\n",
    "Generator-Object : Generator functions return a generator object. Generator objects are used either by calling the next method on the generator object or using the generator object in a “for in” loop (as shown in the above program). "
   ]
  },
  {
   "cell_type": "markdown",
   "id": "933cae0b",
   "metadata": {},
   "source": [
    "Generators and the yield keyword are helpful in situations where you need to\n",
    "process a large amount of data or generate an infinite sequence of values,\n",
    "but you don't want to store all of the data in memory at once. \n",
    "This can help to save memory and improve performance.\n",
    "\n",
    "If you have a large dataset that you need to process, you can use a generator to read the data in chunks, process each chunk, and yield the results one at a time. This can help to avoid memory issues that might arise if you tried to read the entire dataset into memory at once."
   ]
  },
  {
   "cell_type": "code",
   "execution_count": null,
   "id": "a741791c",
   "metadata": {},
   "outputs": [],
   "source": [
    "#a generator is a function that returns an iterator that produces a sequence of values when iterated over.\n",
    "#Generators are useful when we want to produce a large sequence of values, \n",
    "#but we don't want to store all of them in memory at once."
   ]
  },
  {
   "cell_type": "code",
   "execution_count": 26,
   "id": "cd305733",
   "metadata": {},
   "outputs": [],
   "source": [
    "#basically this also an iterator ,but we use yield keyword instead of iter().that means we can loop over generator\n",
    "#it saves the local variable created at run time and therfore gives all values when we loop over it\n",
    "#this helps in writing fast and compact code\n",
    "def square(n):\n",
    "    for i in range(n):\n",
    "        yield n**2"
   ]
  },
  {
   "cell_type": "code",
   "execution_count": 28,
   "id": "faf46113",
   "metadata": {},
   "outputs": [
    {
     "name": "stdout",
     "output_type": "stream",
     "text": [
      "9\n",
      "9\n",
      "9\n"
     ]
    }
   ],
   "source": [
    "#looping over generator\n",
    "for i in square(3):\n",
    "    print(i)"
   ]
  },
  {
   "cell_type": "code",
   "execution_count": 9,
   "id": "6fc2633f",
   "metadata": {},
   "outputs": [
    {
     "name": "stdout",
     "output_type": "stream",
     "text": [
      "0\n",
      "2\n",
      "4\n",
      "6\n",
      "8\n",
      "10\n",
      "12\n",
      "14\n",
      "16\n",
      "18\n",
      "20\n"
     ]
    }
   ],
   "source": [
    "#generator function to get even numbers from 1 to 20\n",
    "def gen():\n",
    "    for i in range(21):\n",
    "        if i%2==0:\n",
    "            yield i\n",
    "for i in gen():\n",
    "    print(i)"
   ]
  },
  {
   "cell_type": "code",
   "execution_count": 10,
   "id": "8635586d",
   "metadata": {},
   "outputs": [
    {
     "data": {
      "text/plain": [
       "<generator object <genexpr> at 0x0000022D3BB66190>"
      ]
     },
     "execution_count": 10,
     "metadata": {},
     "output_type": "execute_result"
    }
   ],
   "source": [
    "gen2 = (i**2 for i in range(10)) # Generator expression\n",
    "gen2"
   ]
  },
  {
   "cell_type": "code",
   "execution_count": 11,
   "id": "5ec79964",
   "metadata": {},
   "outputs": [
    {
     "data": {
      "text/plain": [
       "0"
      ]
     },
     "execution_count": 11,
     "metadata": {},
     "output_type": "execute_result"
    }
   ],
   "source": [
    "next(gen2)"
   ]
  },
  {
   "cell_type": "code",
   "execution_count": 1,
   "id": "3513c2fa",
   "metadata": {},
   "outputs": [
    {
     "data": {
      "text/plain": [
       "'C:\\\\Users\\\\aksha\\\\Python_C3'"
      ]
     },
     "execution_count": 1,
     "metadata": {},
     "output_type": "execute_result"
    }
   ],
   "source": [
    "pwd"
   ]
  },
  {
   "cell_type": "code",
   "execution_count": 30,
   "id": "2f664748",
   "metadata": {},
   "outputs": [
    {
     "data": {
      "text/plain": [
       "<generator object square at 0x0000020A982DF270>"
      ]
     },
     "execution_count": 30,
     "metadata": {},
     "output_type": "execute_result"
    }
   ],
   "source": [
    "#this is a generator object\n",
    "square(3)"
   ]
  },
  {
   "cell_type": "code",
   "execution_count": 34,
   "id": "fe568339",
   "metadata": {},
   "outputs": [
    {
     "data": {
      "text/plain": [
       "[None, None]"
      ]
     },
     "execution_count": 34,
     "metadata": {},
     "output_type": "execute_result"
    }
   ],
   "source": [
    "l1=[]\n",
    "l=[[1,2,3],[4,5,6]]\n",
    "[l1.extend(i) for i in l]"
   ]
  },
  {
   "cell_type": "code",
   "execution_count": 35,
   "id": "3155bf42",
   "metadata": {},
   "outputs": [
    {
     "data": {
      "text/plain": [
       "[1, 2, 3, 4, 5, 6]"
      ]
     },
     "execution_count": 35,
     "metadata": {},
     "output_type": "execute_result"
    }
   ],
   "source": [
    "l1"
   ]
  },
  {
   "cell_type": "code",
   "execution_count": 36,
   "id": "48be8e38",
   "metadata": {},
   "outputs": [],
   "source": [
    "#reduce function"
   ]
  },
  {
   "cell_type": "code",
   "execution_count": 38,
   "id": "35e5f727",
   "metadata": {},
   "outputs": [],
   "source": [
    "from functools import reduce"
   ]
  },
  {
   "cell_type": "code",
   "execution_count": 39,
   "id": "d35d9713",
   "metadata": {},
   "outputs": [],
   "source": [
    "l=[1,2,3,4,5]"
   ]
  },
  {
   "cell_type": "code",
   "execution_count": 40,
   "id": "f26300e1",
   "metadata": {},
   "outputs": [
    {
     "data": {
      "text/plain": [
       "15"
      ]
     },
     "execution_count": 40,
     "metadata": {},
     "output_type": "execute_result"
    }
   ],
   "source": [
    "reduce(lambda a,b:a+b,l)"
   ]
  },
  {
   "cell_type": "code",
   "execution_count": 42,
   "id": "cbc9e3b8",
   "metadata": {},
   "outputs": [
    {
     "data": {
      "text/plain": [
       "19"
      ]
     },
     "execution_count": 42,
     "metadata": {},
     "output_type": "execute_result"
    }
   ],
   "source": [
    "reduce(lambda x,y:x+y+1,l)"
   ]
  },
  {
   "cell_type": "code",
   "execution_count": 45,
   "id": "0ef6d90b",
   "metadata": {},
   "outputs": [
    {
     "data": {
      "text/plain": [
       "0"
      ]
     },
     "execution_count": 45,
     "metadata": {},
     "output_type": "execute_result"
    }
   ],
   "source": [
    "reduce(lambda x,y:0,l)"
   ]
  },
  {
   "cell_type": "code",
   "execution_count": null,
   "id": "12177efc",
   "metadata": {},
   "outputs": [],
   "source": [
    "#to check current working directory"
   ]
  },
  {
   "cell_type": "code",
   "execution_count": 6,
   "id": "13664fcd",
   "metadata": {},
   "outputs": [
    {
     "data": {
      "text/plain": [
       "'C:\\\\Users\\\\aksha\\\\Python_C3'"
      ]
     },
     "execution_count": 6,
     "metadata": {},
     "output_type": "execute_result"
    }
   ],
   "source": [
    "pwd"
   ]
  },
  {
   "cell_type": "code",
   "execution_count": 10,
   "id": "d419b064",
   "metadata": {},
   "outputs": [],
   "source": [
    "#let us write a jsonl file\n",
    "import json\n",
    "with open(\"generator_jsonl.jsonl\",mode=\"a\") as f:\n",
    "    l=[{\"timestamp\": \"2025-05-13T10:00:00\", \"level\": \"INFO\", \"message\": \"System started\", \"user_id\": 1},\n",
    "{\"timestamp\": \"2025-05-13T10:01:10\", \"level\": \"ERROR\", \"message\": \"Failed to load config\", \"user_id\": 2},\n",
    "{\"timestamp\": \"2025-05-13T10:02:15\", \"level\": \"WARNING\", \"message\": \"Memory usage high\", \"user_id\": 3},\n",
    "{\"timestamp\": \"2025-05-13T10:03:20\", \"level\": \"ERROR\", \"message\": \"Connection timeout\", \"user_id\": 4},\n",
    "{\"timestamp\": \"2025-05-13T10:04:25\", \"level\": \"INFO\", \"message\": \"User login successful\", \"user_id\": 5},\n",
    "{\"timestamp\": \"2025-05-13T10:05:30\", \"level\": \"ERROR\", \"message\": \"Disk write failed\", \"user_id\": 6}]\n",
    "\n",
    "    for i in l:\n",
    "        f.write(json.dumps(i)+\"\\n\")        "
   ]
  },
  {
   "cell_type": "code",
   "execution_count": 27,
   "id": "d2b6b521",
   "metadata": {},
   "outputs": [
    {
     "name": "stdout",
     "output_type": "stream",
     "text": [
      "[{'timestamp': '2025-05-13T10:00:00', 'level': 'INFO', 'message': 'System started', 'user_id': 1}, {'timestamp': '2025-05-13T10:01:10', 'level': 'ERROR', 'message': 'Failed to load config', 'user_id': 2}, {'timestamp': '2025-05-13T10:02:15', 'level': 'WARNING', 'message': 'Memory usage high', 'user_id': 3}, {'timestamp': '2025-05-13T10:03:20', 'level': 'ERROR', 'message': 'Connection timeout', 'user_id': 4}, {'timestamp': '2025-05-13T10:04:25', 'level': 'INFO', 'message': 'User login successful', 'user_id': 5}, {'timestamp': '2025-05-13T10:05:30', 'level': 'ERROR', 'message': 'Disk write failed', 'user_id': 6}]\n"
     ]
    }
   ],
   "source": [
    "#loading all at once\n",
    "with open(\"generator_jsonl.jsonl\",\"r\") as file:\n",
    "    l=[json.loads(line) for line in file]\n",
    "    print(l)"
   ]
  },
  {
   "cell_type": "code",
   "execution_count": 21,
   "id": "85915e84",
   "metadata": {},
   "outputs": [],
   "source": [
    "#now we will see the use of generators\n",
    "#imagine a big file like this, instead of loading all lines into memory, we can just use generator to load one by one,\n",
    "#do processing and proceeed with next line .\n",
    "def fun():\n",
    "    with open(\"generator_jsonl.jsonl\",\"r\") as file:\n",
    "        for line in file:\n",
    "            yield json.loads(line)"
   ]
  },
  {
   "cell_type": "code",
   "execution_count": 25,
   "id": "67595bc5",
   "metadata": {},
   "outputs": [
    {
     "name": "stdout",
     "output_type": "stream",
     "text": [
      "{'timestamp': '2025-05-13T10:00:00', 'level': 'INFO', 'message': 'System started', 'user_id': 1}\n",
      "{'timestamp': '2025-05-13T10:01:10', 'level': 'ERROR', 'message': 'Failed to load config', 'user_id': 2}\n",
      "{'timestamp': '2025-05-13T10:02:15', 'level': 'WARNING', 'message': 'Memory usage high', 'user_id': 3}\n",
      "{'timestamp': '2025-05-13T10:03:20', 'level': 'ERROR', 'message': 'Connection timeout', 'user_id': 4}\n",
      "{'timestamp': '2025-05-13T10:04:25', 'level': 'INFO', 'message': 'User login successful', 'user_id': 5}\n",
      "{'timestamp': '2025-05-13T10:05:30', 'level': 'ERROR', 'message': 'Disk write failed', 'user_id': 6}\n"
     ]
    }
   ],
   "source": [
    "for i in fun():\n",
    "    print(i)"
   ]
  },
  {
   "cell_type": "code",
   "execution_count": null,
   "id": "7fcd5864",
   "metadata": {},
   "outputs": [],
   "source": []
  }
 ],
 "metadata": {
  "kernelspec": {
   "display_name": "Python 3 (ipykernel)",
   "language": "python",
   "name": "python3"
  },
  "language_info": {
   "codemirror_mode": {
    "name": "ipython",
    "version": 3
   },
   "file_extension": ".py",
   "mimetype": "text/x-python",
   "name": "python",
   "nbconvert_exporter": "python",
   "pygments_lexer": "ipython3",
   "version": "3.10.9"
  }
 },
 "nbformat": 4,
 "nbformat_minor": 5
}
